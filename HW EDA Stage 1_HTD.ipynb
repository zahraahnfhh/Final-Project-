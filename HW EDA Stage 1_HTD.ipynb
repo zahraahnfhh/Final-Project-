{
 "cells": [
  {
   "cell_type": "markdown",
   "id": "0f8c60df-3c32-4c34-bedb-5fc696cfe8b4",
   "metadata": {
    "id": "0f8c60df-3c32-4c34-bedb-5fc696cfe8b4"
   },
   "source": [
    "# Dataset\n",
    "**Feature:**\n",
    "   \n",
    "   1 - age: usia (numerical)\n",
    "   \n",
    "   2 - job: pekerjaan (categorical: \"admin.\",\"blue-collar\",\"entrepreneur\",\"housemaid\",\"management\",\"retired\",\"self-employed\",\"services\",\"student\",\"technician\",\"unemployed\",\"unknown\")\n",
    "   \n",
    "   3 - marital: status pernikahan (categorical: \"divorced\",\"married\",\"single\"; note: \"divorced\" means divorced or widowed)\n",
    "   \n",
    "   4 - education: jenjang pendidikan (categorical: \"primary\",\"secondary\",\"tertiary,\"unknown\")\n",
    "   \n",
    "   5 - default: gagal bayar (categorical: \"no\",\"yes\")\n",
    "   \n",
    "   6 - balance: saldo uang di bank (numerical)\n",
    "   \n",
    "   7 - housing: memiliki pinjaman perumahan (categorical: \"no\",\"yes\")\n",
    "   \n",
    "   8 - loan: memiliki pinjaman pribadi (categorical: \"no\",\"yes\")\n",
    "   \n",
    "   9 - contact: jenis kontak (categorical: \"cellular\",\"telephone\") \n",
    "   \n",
    "   10 - month: bulan kontak terakhir (categorical: \"jan\", \"feb\", \"mar\", ..., \"nov\", \"dec\")\n",
    "   \n",
    "   11 - day: tanggal kontak terakhir (numerical: 1-31)\n",
    "   \n",
    "   12 - duration: durasi kontak terakhir dalam hitungan detik (numerical)\n",
    "   \n",
    "   13 - campaign: total kontak yang dilakukan selama marketing campaign ini berlangsung (numerical)\n",
    "   \n",
    "   14 - pdays: jumlah hari yang yang telah berlalu setelah user ini dihubungi pada marketing campaign sebelumnya (numerical; -1 berarti client tidak pernah dikontak sebelumnya)\n",
    "   \n",
    "   15 - previous: total kontak yang dilakukan pada marketing campaign sebelumnya (numerical)\n",
    "   \n",
    "   16 - poutcome: hasil dari marketing campaign sebelumnya (categorical: \"failure\",\"unknown\",\"other\",\"success\")\n",
    "  \n",
    "   **Feature Target:**\n",
    "   \n",
    "   17 - y - klien berlangganan/subscribe deposit (binary: \"yes\",\"no\")"
   ]
  },
  {
   "cell_type": "markdown",
   "id": "36f559d1-b59c-4280-a747-ffd3389ecd88",
   "metadata": {
    "id": "36f559d1-b59c-4280-a747-ffd3389ecd88"
   },
   "source": [
    "# EDA"
   ]
  },
  {
   "cell_type": "code",
   "execution_count": 1,
   "id": "7be6fba1-7fd1-4a96-941f-f3e3909f3418",
   "metadata": {
    "executionInfo": {
     "elapsed": 1882,
     "status": "ok",
     "timestamp": 1646564784009,
     "user": {
      "displayName": "Muhammad Dhiyaaul Firdaus",
      "photoUrl": "https://lh3.googleusercontent.com/a-/AOh14Gi3oG_9bA_lBf8mb6zeyEcDubUqhIJoPaMJPsqQTg=s64",
      "userId": "08730575054720552885"
     },
     "user_tz": -420
    },
    "id": "7be6fba1-7fd1-4a96-941f-f3e3909f3418"
   },
   "outputs": [],
   "source": [
    "import numpy as np\n",
    "import pandas as pd\n",
    "import matplotlib.pyplot as plt\n",
    "import seaborn as sns"
   ]
  },
  {
   "cell_type": "code",
   "execution_count": 2,
   "id": "7bc37f76-300d-40f6-8290-1954053fe222",
   "metadata": {
    "colab": {
     "base_uri": "https://localhost:8080/",
     "height": 206
    },
    "executionInfo": {
     "elapsed": 14,
     "status": "ok",
     "timestamp": 1646564784011,
     "user": {
      "displayName": "Muhammad Dhiyaaul Firdaus",
      "photoUrl": "https://lh3.googleusercontent.com/a-/AOh14Gi3oG_9bA_lBf8mb6zeyEcDubUqhIJoPaMJPsqQTg=s64",
      "userId": "08730575054720552885"
     },
     "user_tz": -420
    },
    "id": "7bc37f76-300d-40f6-8290-1954053fe222",
    "outputId": "fd8a1eeb-5eb3-4e14-e763-b73b43f19ed1"
   },
   "outputs": [
    {
     "data": {
      "text/html": [
       "\n",
       "  <div id=\"df-d2e3031d-c5dc-4f37-8e89-dad67d42290b\">\n",
       "    <div class=\"colab-df-container\">\n",
       "      <div>\n",
       "<style scoped>\n",
       "    .dataframe tbody tr th:only-of-type {\n",
       "        vertical-align: middle;\n",
       "    }\n",
       "\n",
       "    .dataframe tbody tr th {\n",
       "        vertical-align: top;\n",
       "    }\n",
       "\n",
       "    .dataframe thead th {\n",
       "        text-align: right;\n",
       "    }\n",
       "</style>\n",
       "<table border=\"1\" class=\"dataframe\">\n",
       "  <thead>\n",
       "    <tr style=\"text-align: right;\">\n",
       "      <th></th>\n",
       "      <th>age</th>\n",
       "      <th>job</th>\n",
       "      <th>marital</th>\n",
       "      <th>education</th>\n",
       "      <th>default</th>\n",
       "      <th>balance</th>\n",
       "      <th>housing</th>\n",
       "      <th>loan</th>\n",
       "      <th>contact</th>\n",
       "      <th>day</th>\n",
       "      <th>month</th>\n",
       "      <th>duration</th>\n",
       "      <th>campaign</th>\n",
       "      <th>pdays</th>\n",
       "      <th>previous</th>\n",
       "      <th>poutcome</th>\n",
       "      <th>y</th>\n",
       "    </tr>\n",
       "  </thead>\n",
       "  <tbody>\n",
       "    <tr>\n",
       "      <th>0</th>\n",
       "      <td>58</td>\n",
       "      <td>management</td>\n",
       "      <td>married</td>\n",
       "      <td>tertiary</td>\n",
       "      <td>no</td>\n",
       "      <td>2143</td>\n",
       "      <td>yes</td>\n",
       "      <td>no</td>\n",
       "      <td>unknown</td>\n",
       "      <td>5</td>\n",
       "      <td>may</td>\n",
       "      <td>261</td>\n",
       "      <td>1</td>\n",
       "      <td>-1</td>\n",
       "      <td>0</td>\n",
       "      <td>unknown</td>\n",
       "      <td>no</td>\n",
       "    </tr>\n",
       "    <tr>\n",
       "      <th>1</th>\n",
       "      <td>44</td>\n",
       "      <td>technician</td>\n",
       "      <td>single</td>\n",
       "      <td>secondary</td>\n",
       "      <td>no</td>\n",
       "      <td>29</td>\n",
       "      <td>yes</td>\n",
       "      <td>no</td>\n",
       "      <td>unknown</td>\n",
       "      <td>5</td>\n",
       "      <td>may</td>\n",
       "      <td>151</td>\n",
       "      <td>1</td>\n",
       "      <td>-1</td>\n",
       "      <td>0</td>\n",
       "      <td>unknown</td>\n",
       "      <td>no</td>\n",
       "    </tr>\n",
       "    <tr>\n",
       "      <th>2</th>\n",
       "      <td>33</td>\n",
       "      <td>entrepreneur</td>\n",
       "      <td>married</td>\n",
       "      <td>secondary</td>\n",
       "      <td>no</td>\n",
       "      <td>2</td>\n",
       "      <td>yes</td>\n",
       "      <td>yes</td>\n",
       "      <td>unknown</td>\n",
       "      <td>5</td>\n",
       "      <td>may</td>\n",
       "      <td>76</td>\n",
       "      <td>1</td>\n",
       "      <td>-1</td>\n",
       "      <td>0</td>\n",
       "      <td>unknown</td>\n",
       "      <td>no</td>\n",
       "    </tr>\n",
       "    <tr>\n",
       "      <th>3</th>\n",
       "      <td>47</td>\n",
       "      <td>blue-collar</td>\n",
       "      <td>married</td>\n",
       "      <td>unknown</td>\n",
       "      <td>no</td>\n",
       "      <td>1506</td>\n",
       "      <td>yes</td>\n",
       "      <td>no</td>\n",
       "      <td>unknown</td>\n",
       "      <td>5</td>\n",
       "      <td>may</td>\n",
       "      <td>92</td>\n",
       "      <td>1</td>\n",
       "      <td>-1</td>\n",
       "      <td>0</td>\n",
       "      <td>unknown</td>\n",
       "      <td>no</td>\n",
       "    </tr>\n",
       "    <tr>\n",
       "      <th>4</th>\n",
       "      <td>33</td>\n",
       "      <td>unknown</td>\n",
       "      <td>single</td>\n",
       "      <td>unknown</td>\n",
       "      <td>no</td>\n",
       "      <td>1</td>\n",
       "      <td>no</td>\n",
       "      <td>no</td>\n",
       "      <td>unknown</td>\n",
       "      <td>5</td>\n",
       "      <td>may</td>\n",
       "      <td>198</td>\n",
       "      <td>1</td>\n",
       "      <td>-1</td>\n",
       "      <td>0</td>\n",
       "      <td>unknown</td>\n",
       "      <td>no</td>\n",
       "    </tr>\n",
       "  </tbody>\n",
       "</table>\n",
       "</div>\n",
       "      <button class=\"colab-df-convert\" onclick=\"convertToInteractive('df-d2e3031d-c5dc-4f37-8e89-dad67d42290b')\"\n",
       "              title=\"Convert this dataframe to an interactive table.\"\n",
       "              style=\"display:none;\">\n",
       "        \n",
       "  <svg xmlns=\"http://www.w3.org/2000/svg\" height=\"24px\"viewBox=\"0 0 24 24\"\n",
       "       width=\"24px\">\n",
       "    <path d=\"M0 0h24v24H0V0z\" fill=\"none\"/>\n",
       "    <path d=\"M18.56 5.44l.94 2.06.94-2.06 2.06-.94-2.06-.94-.94-2.06-.94 2.06-2.06.94zm-11 1L8.5 8.5l.94-2.06 2.06-.94-2.06-.94L8.5 2.5l-.94 2.06-2.06.94zm10 10l.94 2.06.94-2.06 2.06-.94-2.06-.94-.94-2.06-.94 2.06-2.06.94z\"/><path d=\"M17.41 7.96l-1.37-1.37c-.4-.4-.92-.59-1.43-.59-.52 0-1.04.2-1.43.59L10.3 9.45l-7.72 7.72c-.78.78-.78 2.05 0 2.83L4 21.41c.39.39.9.59 1.41.59.51 0 1.02-.2 1.41-.59l7.78-7.78 2.81-2.81c.8-.78.8-2.07 0-2.86zM5.41 20L4 18.59l7.72-7.72 1.47 1.35L5.41 20z\"/>\n",
       "  </svg>\n",
       "      </button>\n",
       "      \n",
       "  <style>\n",
       "    .colab-df-container {\n",
       "      display:flex;\n",
       "      flex-wrap:wrap;\n",
       "      gap: 12px;\n",
       "    }\n",
       "\n",
       "    .colab-df-convert {\n",
       "      background-color: #E8F0FE;\n",
       "      border: none;\n",
       "      border-radius: 50%;\n",
       "      cursor: pointer;\n",
       "      display: none;\n",
       "      fill: #1967D2;\n",
       "      height: 32px;\n",
       "      padding: 0 0 0 0;\n",
       "      width: 32px;\n",
       "    }\n",
       "\n",
       "    .colab-df-convert:hover {\n",
       "      background-color: #E2EBFA;\n",
       "      box-shadow: 0px 1px 2px rgba(60, 64, 67, 0.3), 0px 1px 3px 1px rgba(60, 64, 67, 0.15);\n",
       "      fill: #174EA6;\n",
       "    }\n",
       "\n",
       "    [theme=dark] .colab-df-convert {\n",
       "      background-color: #3B4455;\n",
       "      fill: #D2E3FC;\n",
       "    }\n",
       "\n",
       "    [theme=dark] .colab-df-convert:hover {\n",
       "      background-color: #434B5C;\n",
       "      box-shadow: 0px 1px 3px 1px rgba(0, 0, 0, 0.15);\n",
       "      filter: drop-shadow(0px 1px 2px rgba(0, 0, 0, 0.3));\n",
       "      fill: #FFFFFF;\n",
       "    }\n",
       "  </style>\n",
       "\n",
       "      <script>\n",
       "        const buttonEl =\n",
       "          document.querySelector('#df-d2e3031d-c5dc-4f37-8e89-dad67d42290b button.colab-df-convert');\n",
       "        buttonEl.style.display =\n",
       "          google.colab.kernel.accessAllowed ? 'block' : 'none';\n",
       "\n",
       "        async function convertToInteractive(key) {\n",
       "          const element = document.querySelector('#df-d2e3031d-c5dc-4f37-8e89-dad67d42290b');\n",
       "          const dataTable =\n",
       "            await google.colab.kernel.invokeFunction('convertToInteractive',\n",
       "                                                     [key], {});\n",
       "          if (!dataTable) return;\n",
       "\n",
       "          const docLinkHtml = 'Like what you see? Visit the ' +\n",
       "            '<a target=\"_blank\" href=https://colab.research.google.com/notebooks/data_table.ipynb>data table notebook</a>'\n",
       "            + ' to learn more about interactive tables.';\n",
       "          element.innerHTML = '';\n",
       "          dataTable['output_type'] = 'display_data';\n",
       "          await google.colab.output.renderOutput(dataTable, element);\n",
       "          const docLink = document.createElement('div');\n",
       "          docLink.innerHTML = docLinkHtml;\n",
       "          element.appendChild(docLink);\n",
       "        }\n",
       "      </script>\n",
       "    </div>\n",
       "  </div>\n",
       "  "
      ],
      "text/plain": [
       "   age           job  marital  education default  balance housing loan  \\\n",
       "0   58    management  married   tertiary      no     2143     yes   no   \n",
       "1   44    technician   single  secondary      no       29     yes   no   \n",
       "2   33  entrepreneur  married  secondary      no        2     yes  yes   \n",
       "3   47   blue-collar  married    unknown      no     1506     yes   no   \n",
       "4   33       unknown   single    unknown      no        1      no   no   \n",
       "\n",
       "   contact  day month  duration  campaign  pdays  previous poutcome   y  \n",
       "0  unknown    5   may       261         1     -1         0  unknown  no  \n",
       "1  unknown    5   may       151         1     -1         0  unknown  no  \n",
       "2  unknown    5   may        76         1     -1         0  unknown  no  \n",
       "3  unknown    5   may        92         1     -1         0  unknown  no  \n",
       "4  unknown    5   may       198         1     -1         0  unknown  no  "
      ]
     },
     "execution_count": 2,
     "metadata": {},
     "output_type": "execute_result"
    }
   ],
   "source": [
    "train = pd.read_csv('train.csv', sep=';')\n",
    "train.head()"
   ]
  },
  {
   "cell_type": "markdown",
   "id": "667b24b6-a27c-4b2b-a558-0ecdf660af89",
   "metadata": {
    "id": "667b24b6-a27c-4b2b-a558-0ecdf660af89"
   },
   "source": [
    "Pada dataset ini, targetnya adalah kolom `y`, yaitu menunjukkan user yang subscribe ke term deposit (yes/no)"
   ]
  },
  {
   "cell_type": "markdown",
   "id": "b32dc50a-51bd-4f7e-b586-8adfa8b8ed68",
   "metadata": {
    "id": "b32dc50a-51bd-4f7e-b586-8adfa8b8ed68"
   },
   "source": [
    "## Descriptive Statistics"
   ]
  },
  {
   "cell_type": "code",
   "execution_count": null,
   "id": "b7a4a7d7-bbe0-44ed-ab9b-44f0935a322b",
   "metadata": {
    "id": "b7a4a7d7-bbe0-44ed-ab9b-44f0935a322b",
    "outputId": "04e7a9c6-c19f-4024-a585-233bc63db92e"
   },
   "outputs": [
    {
     "data": {
      "text/html": [
       "<div>\n",
       "<style scoped>\n",
       "    .dataframe tbody tr th:only-of-type {\n",
       "        vertical-align: middle;\n",
       "    }\n",
       "\n",
       "    .dataframe tbody tr th {\n",
       "        vertical-align: top;\n",
       "    }\n",
       "\n",
       "    .dataframe thead th {\n",
       "        text-align: right;\n",
       "    }\n",
       "</style>\n",
       "<table border=\"1\" class=\"dataframe\">\n",
       "  <thead>\n",
       "    <tr style=\"text-align: right;\">\n",
       "      <th></th>\n",
       "      <th>count</th>\n",
       "      <th>mean</th>\n",
       "      <th>std</th>\n",
       "      <th>min</th>\n",
       "      <th>25%</th>\n",
       "      <th>50%</th>\n",
       "      <th>75%</th>\n",
       "      <th>max</th>\n",
       "    </tr>\n",
       "  </thead>\n",
       "  <tbody>\n",
       "    <tr>\n",
       "      <th>age</th>\n",
       "      <td>45211.0</td>\n",
       "      <td>40.936210</td>\n",
       "      <td>10.618762</td>\n",
       "      <td>18.0</td>\n",
       "      <td>33.0</td>\n",
       "      <td>39.0</td>\n",
       "      <td>48.0</td>\n",
       "      <td>95.0</td>\n",
       "    </tr>\n",
       "    <tr>\n",
       "      <th>balance</th>\n",
       "      <td>45211.0</td>\n",
       "      <td>1362.272058</td>\n",
       "      <td>3044.765829</td>\n",
       "      <td>-8019.0</td>\n",
       "      <td>72.0</td>\n",
       "      <td>448.0</td>\n",
       "      <td>1428.0</td>\n",
       "      <td>102127.0</td>\n",
       "    </tr>\n",
       "    <tr>\n",
       "      <th>day</th>\n",
       "      <td>45211.0</td>\n",
       "      <td>15.806419</td>\n",
       "      <td>8.322476</td>\n",
       "      <td>1.0</td>\n",
       "      <td>8.0</td>\n",
       "      <td>16.0</td>\n",
       "      <td>21.0</td>\n",
       "      <td>31.0</td>\n",
       "    </tr>\n",
       "    <tr>\n",
       "      <th>duration</th>\n",
       "      <td>45211.0</td>\n",
       "      <td>258.163080</td>\n",
       "      <td>257.527812</td>\n",
       "      <td>0.0</td>\n",
       "      <td>103.0</td>\n",
       "      <td>180.0</td>\n",
       "      <td>319.0</td>\n",
       "      <td>4918.0</td>\n",
       "    </tr>\n",
       "    <tr>\n",
       "      <th>campaign</th>\n",
       "      <td>45211.0</td>\n",
       "      <td>2.763841</td>\n",
       "      <td>3.098021</td>\n",
       "      <td>1.0</td>\n",
       "      <td>1.0</td>\n",
       "      <td>2.0</td>\n",
       "      <td>3.0</td>\n",
       "      <td>63.0</td>\n",
       "    </tr>\n",
       "    <tr>\n",
       "      <th>pdays</th>\n",
       "      <td>45211.0</td>\n",
       "      <td>40.197828</td>\n",
       "      <td>100.128746</td>\n",
       "      <td>-1.0</td>\n",
       "      <td>-1.0</td>\n",
       "      <td>-1.0</td>\n",
       "      <td>-1.0</td>\n",
       "      <td>871.0</td>\n",
       "    </tr>\n",
       "    <tr>\n",
       "      <th>previous</th>\n",
       "      <td>45211.0</td>\n",
       "      <td>0.580323</td>\n",
       "      <td>2.303441</td>\n",
       "      <td>0.0</td>\n",
       "      <td>0.0</td>\n",
       "      <td>0.0</td>\n",
       "      <td>0.0</td>\n",
       "      <td>275.0</td>\n",
       "    </tr>\n",
       "  </tbody>\n",
       "</table>\n",
       "</div>"
      ],
      "text/plain": [
       "            count         mean          std     min    25%    50%     75%  \\\n",
       "age       45211.0    40.936210    10.618762    18.0   33.0   39.0    48.0   \n",
       "balance   45211.0  1362.272058  3044.765829 -8019.0   72.0  448.0  1428.0   \n",
       "day       45211.0    15.806419     8.322476     1.0    8.0   16.0    21.0   \n",
       "duration  45211.0   258.163080   257.527812     0.0  103.0  180.0   319.0   \n",
       "campaign  45211.0     2.763841     3.098021     1.0    1.0    2.0     3.0   \n",
       "pdays     45211.0    40.197828   100.128746    -1.0   -1.0   -1.0    -1.0   \n",
       "previous  45211.0     0.580323     2.303441     0.0    0.0    0.0     0.0   \n",
       "\n",
       "               max  \n",
       "age           95.0  \n",
       "balance   102127.0  \n",
       "day           31.0  \n",
       "duration    4918.0  \n",
       "campaign      63.0  \n",
       "pdays        871.0  \n",
       "previous     275.0  "
      ]
     },
     "execution_count": 8,
     "metadata": {},
     "output_type": "execute_result"
    }
   ],
   "source": [
    "train.describe().T"
   ]
  },
  {
   "cell_type": "code",
   "execution_count": null,
   "id": "9e5f282e-364b-4651-b264-9fcece91a5c1",
   "metadata": {
    "id": "9e5f282e-364b-4651-b264-9fcece91a5c1",
    "outputId": "6a76d754-2f8b-4539-a23e-ad2d73bba352"
   },
   "outputs": [
    {
     "name": "stdout",
     "output_type": "stream",
     "text": [
      "<class 'pandas.core.frame.DataFrame'>\n",
      "RangeIndex: 45211 entries, 0 to 45210\n",
      "Data columns (total 17 columns):\n",
      " #   Column     Non-Null Count  Dtype \n",
      "---  ------     --------------  ----- \n",
      " 0   age        45211 non-null  int64 \n",
      " 1   job        45211 non-null  object\n",
      " 2   marital    45211 non-null  object\n",
      " 3   education  45211 non-null  object\n",
      " 4   default    45211 non-null  object\n",
      " 5   balance    45211 non-null  int64 \n",
      " 6   housing    45211 non-null  object\n",
      " 7   loan       45211 non-null  object\n",
      " 8   contact    45211 non-null  object\n",
      " 9   day        45211 non-null  int64 \n",
      " 10  month      45211 non-null  object\n",
      " 11  duration   45211 non-null  int64 \n",
      " 12  campaign   45211 non-null  int64 \n",
      " 13  pdays      45211 non-null  int64 \n",
      " 14  previous   45211 non-null  int64 \n",
      " 15  poutcome   45211 non-null  object\n",
      " 16  y          45211 non-null  object\n",
      "dtypes: int64(7), object(10)\n",
      "memory usage: 5.9+ MB\n"
     ]
    }
   ],
   "source": [
    "train.info()"
   ]
  },
  {
   "cell_type": "code",
   "execution_count": null,
   "id": "29842b3a-baee-4d37-93e0-7486c7cfc131",
   "metadata": {
    "id": "29842b3a-baee-4d37-93e0-7486c7cfc131",
    "outputId": "f27ef0db-d1bf-4a30-959a-7d9f251c9e09"
   },
   "outputs": [
    {
     "data": {
      "text/plain": [
       "False"
      ]
     },
     "execution_count": 10,
     "metadata": {},
     "output_type": "execute_result"
    }
   ],
   "source": [
    "train.duplicated().any()"
   ]
  },
  {
   "cell_type": "code",
   "execution_count": null,
   "id": "cd024656-b8ca-4db6-a979-69e18654cc0f",
   "metadata": {
    "id": "cd024656-b8ca-4db6-a979-69e18654cc0f",
    "outputId": "2f4b9007-06e8-488b-f7bd-64fecd0e7061"
   },
   "outputs": [
    {
     "data": {
      "text/plain": [
       "0"
      ]
     },
     "execution_count": 15,
     "metadata": {},
     "output_type": "execute_result"
    }
   ],
   "source": [
    "train.isnull().any().sum()"
   ]
  },
  {
   "cell_type": "code",
   "execution_count": null,
   "id": "d31cb889-3c2a-4d65-bf7d-4f7cd48783fb",
   "metadata": {
    "id": "d31cb889-3c2a-4d65-bf7d-4f7cd48783fb",
    "outputId": "07b2a691-2ec5-4582-ec1b-4ce72f2da038"
   },
   "outputs": [
    {
     "name": "stdout",
     "output_type": "stream",
     "text": [
      "Pada dataset terdapat 45211 baris dan 17 kolom\n"
     ]
    }
   ],
   "source": [
    "print(f'Pada dataset terdapat {train.shape[0]} baris dan {train.shape[1]} kolom')"
   ]
  },
  {
   "cell_type": "markdown",
   "id": "6012fdcd-e0dc-44a4-82b4-6f4349c006c5",
   "metadata": {
    "id": "6012fdcd-e0dc-44a4-82b4-6f4349c006c5"
   },
   "source": [
    "Pada dataset tidak ada data yang duplikat"
   ]
  },
  {
   "cell_type": "markdown",
   "id": "c7174ee7-b8aa-49b1-9117-2d140af54418",
   "metadata": {
    "id": "c7174ee7-b8aa-49b1-9117-2d140af54418"
   },
   "source": [
    "Pengamatan:\n",
    "1. Data train terdiri dari 17 kolom dan 45211 baris\n",
    "2. Tidak terdapat missing values, tetapi terdapat unknown values pada beberapa feature\n",
    "3. Sepertinya tidak ada issue yang mencolok pada tipe data untuk setiap kolom (sudah sesuai)\n",
    "4. y adalah Feature Target\n",
    "\n",
    "Saran: mengubah unknown values yang terdapat pada beberapa feature"
   ]
  },
  {
   "cell_type": "markdown",
   "id": "d563969e-1032-480e-b59e-c08edace3ca9",
   "metadata": {
    "id": "d563969e-1032-480e-b59e-c08edace3ca9"
   },
   "source": [
    "### A. Pengecekan Tipe Data"
   ]
  },
  {
   "cell_type": "markdown",
   "id": "93a74fb5-730e-467a-8708-7e59d1be15e9",
   "metadata": {
    "id": "93a74fb5-730e-467a-8708-7e59d1be15e9"
   },
   "source": [
    "Kita pisahkan kolom berdasarkan tipenya, numerikal (integer dan float) dan categorical (string)"
   ]
  },
  {
   "cell_type": "code",
   "execution_count": 3,
   "id": "a1ec1ed7-9a3f-45e7-8fb2-b317a699fb29",
   "metadata": {
    "colab": {
     "base_uri": "https://localhost:8080/",
     "height": 206
    },
    "executionInfo": {
     "elapsed": 468,
     "status": "ok",
     "timestamp": 1646564794234,
     "user": {
      "displayName": "Muhammad Dhiyaaul Firdaus",
      "photoUrl": "https://lh3.googleusercontent.com/a-/AOh14Gi3oG_9bA_lBf8mb6zeyEcDubUqhIJoPaMJPsqQTg=s64",
      "userId": "08730575054720552885"
     },
     "user_tz": -420
    },
    "id": "a1ec1ed7-9a3f-45e7-8fb2-b317a699fb29",
    "outputId": "af88420f-66cc-48e5-baae-f8de8224c86c"
   },
   "outputs": [
    {
     "data": {
      "text/html": [
       "\n",
       "  <div id=\"df-12b85ac0-270b-41ab-a8ad-a2cb00f83259\">\n",
       "    <div class=\"colab-df-container\">\n",
       "      <div>\n",
       "<style scoped>\n",
       "    .dataframe tbody tr th:only-of-type {\n",
       "        vertical-align: middle;\n",
       "    }\n",
       "\n",
       "    .dataframe tbody tr th {\n",
       "        vertical-align: top;\n",
       "    }\n",
       "\n",
       "    .dataframe thead th {\n",
       "        text-align: right;\n",
       "    }\n",
       "</style>\n",
       "<table border=\"1\" class=\"dataframe\">\n",
       "  <thead>\n",
       "    <tr style=\"text-align: right;\">\n",
       "      <th></th>\n",
       "      <th>age</th>\n",
       "      <th>balance</th>\n",
       "      <th>day</th>\n",
       "      <th>duration</th>\n",
       "      <th>campaign</th>\n",
       "      <th>pdays</th>\n",
       "      <th>previous</th>\n",
       "    </tr>\n",
       "  </thead>\n",
       "  <tbody>\n",
       "    <tr>\n",
       "      <th>0</th>\n",
       "      <td>58</td>\n",
       "      <td>2143</td>\n",
       "      <td>5</td>\n",
       "      <td>261</td>\n",
       "      <td>1</td>\n",
       "      <td>-1</td>\n",
       "      <td>0</td>\n",
       "    </tr>\n",
       "    <tr>\n",
       "      <th>1</th>\n",
       "      <td>44</td>\n",
       "      <td>29</td>\n",
       "      <td>5</td>\n",
       "      <td>151</td>\n",
       "      <td>1</td>\n",
       "      <td>-1</td>\n",
       "      <td>0</td>\n",
       "    </tr>\n",
       "    <tr>\n",
       "      <th>2</th>\n",
       "      <td>33</td>\n",
       "      <td>2</td>\n",
       "      <td>5</td>\n",
       "      <td>76</td>\n",
       "      <td>1</td>\n",
       "      <td>-1</td>\n",
       "      <td>0</td>\n",
       "    </tr>\n",
       "    <tr>\n",
       "      <th>3</th>\n",
       "      <td>47</td>\n",
       "      <td>1506</td>\n",
       "      <td>5</td>\n",
       "      <td>92</td>\n",
       "      <td>1</td>\n",
       "      <td>-1</td>\n",
       "      <td>0</td>\n",
       "    </tr>\n",
       "    <tr>\n",
       "      <th>4</th>\n",
       "      <td>33</td>\n",
       "      <td>1</td>\n",
       "      <td>5</td>\n",
       "      <td>198</td>\n",
       "      <td>1</td>\n",
       "      <td>-1</td>\n",
       "      <td>0</td>\n",
       "    </tr>\n",
       "  </tbody>\n",
       "</table>\n",
       "</div>\n",
       "      <button class=\"colab-df-convert\" onclick=\"convertToInteractive('df-12b85ac0-270b-41ab-a8ad-a2cb00f83259')\"\n",
       "              title=\"Convert this dataframe to an interactive table.\"\n",
       "              style=\"display:none;\">\n",
       "        \n",
       "  <svg xmlns=\"http://www.w3.org/2000/svg\" height=\"24px\"viewBox=\"0 0 24 24\"\n",
       "       width=\"24px\">\n",
       "    <path d=\"M0 0h24v24H0V0z\" fill=\"none\"/>\n",
       "    <path d=\"M18.56 5.44l.94 2.06.94-2.06 2.06-.94-2.06-.94-.94-2.06-.94 2.06-2.06.94zm-11 1L8.5 8.5l.94-2.06 2.06-.94-2.06-.94L8.5 2.5l-.94 2.06-2.06.94zm10 10l.94 2.06.94-2.06 2.06-.94-2.06-.94-.94-2.06-.94 2.06-2.06.94z\"/><path d=\"M17.41 7.96l-1.37-1.37c-.4-.4-.92-.59-1.43-.59-.52 0-1.04.2-1.43.59L10.3 9.45l-7.72 7.72c-.78.78-.78 2.05 0 2.83L4 21.41c.39.39.9.59 1.41.59.51 0 1.02-.2 1.41-.59l7.78-7.78 2.81-2.81c.8-.78.8-2.07 0-2.86zM5.41 20L4 18.59l7.72-7.72 1.47 1.35L5.41 20z\"/>\n",
       "  </svg>\n",
       "      </button>\n",
       "      \n",
       "  <style>\n",
       "    .colab-df-container {\n",
       "      display:flex;\n",
       "      flex-wrap:wrap;\n",
       "      gap: 12px;\n",
       "    }\n",
       "\n",
       "    .colab-df-convert {\n",
       "      background-color: #E8F0FE;\n",
       "      border: none;\n",
       "      border-radius: 50%;\n",
       "      cursor: pointer;\n",
       "      display: none;\n",
       "      fill: #1967D2;\n",
       "      height: 32px;\n",
       "      padding: 0 0 0 0;\n",
       "      width: 32px;\n",
       "    }\n",
       "\n",
       "    .colab-df-convert:hover {\n",
       "      background-color: #E2EBFA;\n",
       "      box-shadow: 0px 1px 2px rgba(60, 64, 67, 0.3), 0px 1px 3px 1px rgba(60, 64, 67, 0.15);\n",
       "      fill: #174EA6;\n",
       "    }\n",
       "\n",
       "    [theme=dark] .colab-df-convert {\n",
       "      background-color: #3B4455;\n",
       "      fill: #D2E3FC;\n",
       "    }\n",
       "\n",
       "    [theme=dark] .colab-df-convert:hover {\n",
       "      background-color: #434B5C;\n",
       "      box-shadow: 0px 1px 3px 1px rgba(0, 0, 0, 0.15);\n",
       "      filter: drop-shadow(0px 1px 2px rgba(0, 0, 0, 0.3));\n",
       "      fill: #FFFFFF;\n",
       "    }\n",
       "  </style>\n",
       "\n",
       "      <script>\n",
       "        const buttonEl =\n",
       "          document.querySelector('#df-12b85ac0-270b-41ab-a8ad-a2cb00f83259 button.colab-df-convert');\n",
       "        buttonEl.style.display =\n",
       "          google.colab.kernel.accessAllowed ? 'block' : 'none';\n",
       "\n",
       "        async function convertToInteractive(key) {\n",
       "          const element = document.querySelector('#df-12b85ac0-270b-41ab-a8ad-a2cb00f83259');\n",
       "          const dataTable =\n",
       "            await google.colab.kernel.invokeFunction('convertToInteractive',\n",
       "                                                     [key], {});\n",
       "          if (!dataTable) return;\n",
       "\n",
       "          const docLinkHtml = 'Like what you see? Visit the ' +\n",
       "            '<a target=\"_blank\" href=https://colab.research.google.com/notebooks/data_table.ipynb>data table notebook</a>'\n",
       "            + ' to learn more about interactive tables.';\n",
       "          element.innerHTML = '';\n",
       "          dataTable['output_type'] = 'display_data';\n",
       "          await google.colab.output.renderOutput(dataTable, element);\n",
       "          const docLink = document.createElement('div');\n",
       "          docLink.innerHTML = docLinkHtml;\n",
       "          element.appendChild(docLink);\n",
       "        }\n",
       "      </script>\n",
       "    </div>\n",
       "  </div>\n",
       "  "
      ],
      "text/plain": [
       "   age  balance  day  duration  campaign  pdays  previous\n",
       "0   58     2143    5       261         1     -1         0\n",
       "1   44       29    5       151         1     -1         0\n",
       "2   33        2    5        76         1     -1         0\n",
       "3   47     1506    5        92         1     -1         0\n",
       "4   33        1    5       198         1     -1         0"
      ]
     },
     "execution_count": 3,
     "metadata": {},
     "output_type": "execute_result"
    }
   ],
   "source": [
    "nums = train.select_dtypes(include=[np.number])\n",
    "nums.head()"
   ]
  },
  {
   "cell_type": "code",
   "execution_count": 4,
   "id": "304854a7-ba90-4ba9-bcbf-704afa203e3f",
   "metadata": {
    "colab": {
     "base_uri": "https://localhost:8080/",
     "height": 206
    },
    "executionInfo": {
     "elapsed": 10,
     "status": "ok",
     "timestamp": 1646564795717,
     "user": {
      "displayName": "Muhammad Dhiyaaul Firdaus",
      "photoUrl": "https://lh3.googleusercontent.com/a-/AOh14Gi3oG_9bA_lBf8mb6zeyEcDubUqhIJoPaMJPsqQTg=s64",
      "userId": "08730575054720552885"
     },
     "user_tz": -420
    },
    "id": "304854a7-ba90-4ba9-bcbf-704afa203e3f",
    "outputId": "dbcb6ead-e1a0-4d3b-f7ca-bb4f25b42828"
   },
   "outputs": [
    {
     "data": {
      "text/html": [
       "\n",
       "  <div id=\"df-08a8820a-5f9c-4694-ab59-c33bb45e80e2\">\n",
       "    <div class=\"colab-df-container\">\n",
       "      <div>\n",
       "<style scoped>\n",
       "    .dataframe tbody tr th:only-of-type {\n",
       "        vertical-align: middle;\n",
       "    }\n",
       "\n",
       "    .dataframe tbody tr th {\n",
       "        vertical-align: top;\n",
       "    }\n",
       "\n",
       "    .dataframe thead th {\n",
       "        text-align: right;\n",
       "    }\n",
       "</style>\n",
       "<table border=\"1\" class=\"dataframe\">\n",
       "  <thead>\n",
       "    <tr style=\"text-align: right;\">\n",
       "      <th></th>\n",
       "      <th>job</th>\n",
       "      <th>marital</th>\n",
       "      <th>education</th>\n",
       "      <th>default</th>\n",
       "      <th>housing</th>\n",
       "      <th>loan</th>\n",
       "      <th>contact</th>\n",
       "      <th>month</th>\n",
       "      <th>poutcome</th>\n",
       "      <th>y</th>\n",
       "    </tr>\n",
       "  </thead>\n",
       "  <tbody>\n",
       "    <tr>\n",
       "      <th>0</th>\n",
       "      <td>management</td>\n",
       "      <td>married</td>\n",
       "      <td>tertiary</td>\n",
       "      <td>no</td>\n",
       "      <td>yes</td>\n",
       "      <td>no</td>\n",
       "      <td>unknown</td>\n",
       "      <td>may</td>\n",
       "      <td>unknown</td>\n",
       "      <td>no</td>\n",
       "    </tr>\n",
       "    <tr>\n",
       "      <th>1</th>\n",
       "      <td>technician</td>\n",
       "      <td>single</td>\n",
       "      <td>secondary</td>\n",
       "      <td>no</td>\n",
       "      <td>yes</td>\n",
       "      <td>no</td>\n",
       "      <td>unknown</td>\n",
       "      <td>may</td>\n",
       "      <td>unknown</td>\n",
       "      <td>no</td>\n",
       "    </tr>\n",
       "    <tr>\n",
       "      <th>2</th>\n",
       "      <td>entrepreneur</td>\n",
       "      <td>married</td>\n",
       "      <td>secondary</td>\n",
       "      <td>no</td>\n",
       "      <td>yes</td>\n",
       "      <td>yes</td>\n",
       "      <td>unknown</td>\n",
       "      <td>may</td>\n",
       "      <td>unknown</td>\n",
       "      <td>no</td>\n",
       "    </tr>\n",
       "    <tr>\n",
       "      <th>3</th>\n",
       "      <td>blue-collar</td>\n",
       "      <td>married</td>\n",
       "      <td>unknown</td>\n",
       "      <td>no</td>\n",
       "      <td>yes</td>\n",
       "      <td>no</td>\n",
       "      <td>unknown</td>\n",
       "      <td>may</td>\n",
       "      <td>unknown</td>\n",
       "      <td>no</td>\n",
       "    </tr>\n",
       "    <tr>\n",
       "      <th>4</th>\n",
       "      <td>unknown</td>\n",
       "      <td>single</td>\n",
       "      <td>unknown</td>\n",
       "      <td>no</td>\n",
       "      <td>no</td>\n",
       "      <td>no</td>\n",
       "      <td>unknown</td>\n",
       "      <td>may</td>\n",
       "      <td>unknown</td>\n",
       "      <td>no</td>\n",
       "    </tr>\n",
       "  </tbody>\n",
       "</table>\n",
       "</div>\n",
       "      <button class=\"colab-df-convert\" onclick=\"convertToInteractive('df-08a8820a-5f9c-4694-ab59-c33bb45e80e2')\"\n",
       "              title=\"Convert this dataframe to an interactive table.\"\n",
       "              style=\"display:none;\">\n",
       "        \n",
       "  <svg xmlns=\"http://www.w3.org/2000/svg\" height=\"24px\"viewBox=\"0 0 24 24\"\n",
       "       width=\"24px\">\n",
       "    <path d=\"M0 0h24v24H0V0z\" fill=\"none\"/>\n",
       "    <path d=\"M18.56 5.44l.94 2.06.94-2.06 2.06-.94-2.06-.94-.94-2.06-.94 2.06-2.06.94zm-11 1L8.5 8.5l.94-2.06 2.06-.94-2.06-.94L8.5 2.5l-.94 2.06-2.06.94zm10 10l.94 2.06.94-2.06 2.06-.94-2.06-.94-.94-2.06-.94 2.06-2.06.94z\"/><path d=\"M17.41 7.96l-1.37-1.37c-.4-.4-.92-.59-1.43-.59-.52 0-1.04.2-1.43.59L10.3 9.45l-7.72 7.72c-.78.78-.78 2.05 0 2.83L4 21.41c.39.39.9.59 1.41.59.51 0 1.02-.2 1.41-.59l7.78-7.78 2.81-2.81c.8-.78.8-2.07 0-2.86zM5.41 20L4 18.59l7.72-7.72 1.47 1.35L5.41 20z\"/>\n",
       "  </svg>\n",
       "      </button>\n",
       "      \n",
       "  <style>\n",
       "    .colab-df-container {\n",
       "      display:flex;\n",
       "      flex-wrap:wrap;\n",
       "      gap: 12px;\n",
       "    }\n",
       "\n",
       "    .colab-df-convert {\n",
       "      background-color: #E8F0FE;\n",
       "      border: none;\n",
       "      border-radius: 50%;\n",
       "      cursor: pointer;\n",
       "      display: none;\n",
       "      fill: #1967D2;\n",
       "      height: 32px;\n",
       "      padding: 0 0 0 0;\n",
       "      width: 32px;\n",
       "    }\n",
       "\n",
       "    .colab-df-convert:hover {\n",
       "      background-color: #E2EBFA;\n",
       "      box-shadow: 0px 1px 2px rgba(60, 64, 67, 0.3), 0px 1px 3px 1px rgba(60, 64, 67, 0.15);\n",
       "      fill: #174EA6;\n",
       "    }\n",
       "\n",
       "    [theme=dark] .colab-df-convert {\n",
       "      background-color: #3B4455;\n",
       "      fill: #D2E3FC;\n",
       "    }\n",
       "\n",
       "    [theme=dark] .colab-df-convert:hover {\n",
       "      background-color: #434B5C;\n",
       "      box-shadow: 0px 1px 3px 1px rgba(0, 0, 0, 0.15);\n",
       "      filter: drop-shadow(0px 1px 2px rgba(0, 0, 0, 0.3));\n",
       "      fill: #FFFFFF;\n",
       "    }\n",
       "  </style>\n",
       "\n",
       "      <script>\n",
       "        const buttonEl =\n",
       "          document.querySelector('#df-08a8820a-5f9c-4694-ab59-c33bb45e80e2 button.colab-df-convert');\n",
       "        buttonEl.style.display =\n",
       "          google.colab.kernel.accessAllowed ? 'block' : 'none';\n",
       "\n",
       "        async function convertToInteractive(key) {\n",
       "          const element = document.querySelector('#df-08a8820a-5f9c-4694-ab59-c33bb45e80e2');\n",
       "          const dataTable =\n",
       "            await google.colab.kernel.invokeFunction('convertToInteractive',\n",
       "                                                     [key], {});\n",
       "          if (!dataTable) return;\n",
       "\n",
       "          const docLinkHtml = 'Like what you see? Visit the ' +\n",
       "            '<a target=\"_blank\" href=https://colab.research.google.com/notebooks/data_table.ipynb>data table notebook</a>'\n",
       "            + ' to learn more about interactive tables.';\n",
       "          element.innerHTML = '';\n",
       "          dataTable['output_type'] = 'display_data';\n",
       "          await google.colab.output.renderOutput(dataTable, element);\n",
       "          const docLink = document.createElement('div');\n",
       "          docLink.innerHTML = docLinkHtml;\n",
       "          element.appendChild(docLink);\n",
       "        }\n",
       "      </script>\n",
       "    </div>\n",
       "  </div>\n",
       "  "
      ],
      "text/plain": [
       "            job  marital  education default housing loan  contact month  \\\n",
       "0    management  married   tertiary      no     yes   no  unknown   may   \n",
       "1    technician   single  secondary      no     yes   no  unknown   may   \n",
       "2  entrepreneur  married  secondary      no     yes  yes  unknown   may   \n",
       "3   blue-collar  married    unknown      no     yes   no  unknown   may   \n",
       "4       unknown   single    unknown      no      no   no  unknown   may   \n",
       "\n",
       "  poutcome   y  \n",
       "0  unknown  no  \n",
       "1  unknown  no  \n",
       "2  unknown  no  \n",
       "3  unknown  no  \n",
       "4  unknown  no  "
      ]
     },
     "execution_count": 4,
     "metadata": {},
     "output_type": "execute_result"
    }
   ],
   "source": [
    "cats = train.select_dtypes(exclude=[np.number])\n",
    "cats.head()"
   ]
  },
  {
   "cell_type": "code",
   "execution_count": null,
   "id": "233f98b3-754d-466b-9852-2ec2f545da36",
   "metadata": {
    "id": "233f98b3-754d-466b-9852-2ec2f545da36",
    "outputId": "214dd1a9-9bf1-4d4f-88b6-212dd16e2950"
   },
   "outputs": [
    {
     "name": "stdout",
     "output_type": "stream",
     "text": [
      "<class 'pandas.core.frame.DataFrame'>\n",
      "RangeIndex: 45211 entries, 0 to 45210\n",
      "Data columns (total 7 columns):\n",
      " #   Column    Non-Null Count  Dtype\n",
      "---  ------    --------------  -----\n",
      " 0   age       45211 non-null  int64\n",
      " 1   balance   45211 non-null  int64\n",
      " 2   day       45211 non-null  int64\n",
      " 3   duration  45211 non-null  int64\n",
      " 4   campaign  45211 non-null  int64\n",
      " 5   pdays     45211 non-null  int64\n",
      " 6   previous  45211 non-null  int64\n",
      "dtypes: int64(7)\n",
      "memory usage: 2.4 MB\n"
     ]
    }
   ],
   "source": [
    "nums.info()"
   ]
  },
  {
   "cell_type": "code",
   "execution_count": null,
   "id": "e66726f0-b6fc-42c1-9bbd-0c7cadb05ce6",
   "metadata": {
    "id": "e66726f0-b6fc-42c1-9bbd-0c7cadb05ce6",
    "outputId": "38f34212-2adf-4c1f-d73d-d0e0d01c7d56"
   },
   "outputs": [
    {
     "name": "stdout",
     "output_type": "stream",
     "text": [
      "<class 'pandas.core.frame.DataFrame'>\n",
      "RangeIndex: 45211 entries, 0 to 45210\n",
      "Data columns (total 10 columns):\n",
      " #   Column     Non-Null Count  Dtype \n",
      "---  ------     --------------  ----- \n",
      " 0   job        45211 non-null  object\n",
      " 1   marital    45211 non-null  object\n",
      " 2   education  45211 non-null  object\n",
      " 3   default    45211 non-null  object\n",
      " 4   housing    45211 non-null  object\n",
      " 5   loan       45211 non-null  object\n",
      " 6   contact    45211 non-null  object\n",
      " 7   month      45211 non-null  object\n",
      " 8   poutcome   45211 non-null  object\n",
      " 9   y          45211 non-null  object\n",
      "dtypes: object(10)\n",
      "memory usage: 3.4+ MB\n"
     ]
    }
   ],
   "source": [
    "cats.info()"
   ]
  },
  {
   "cell_type": "markdown",
   "id": "276de63a-3d33-438d-982b-7823eda34280",
   "metadata": {
    "id": "276de63a-3d33-438d-982b-7823eda34280"
   },
   "source": [
    "Dari hasil pengecekan, tidak ada tipe data yang kurang sesuai."
   ]
  },
  {
   "cell_type": "markdown",
   "id": "144d6401-0d93-4849-8b8d-3f78a6a5287c",
   "metadata": {
    "id": "144d6401-0d93-4849-8b8d-3f78a6a5287c"
   },
   "source": [
    "### B. Pengecekan kolom yang memiliki nilai kosong/null"
   ]
  },
  {
   "cell_type": "code",
   "execution_count": null,
   "id": "f32844ac-ad10-47c2-82bd-253437b58862",
   "metadata": {
    "id": "f32844ac-ad10-47c2-82bd-253437b58862",
    "outputId": "614b9456-cf8d-4d77-8e7e-294df64e70a0"
   },
   "outputs": [
    {
     "data": {
      "text/plain": [
       "age          0\n",
       "job          0\n",
       "marital      0\n",
       "education    0\n",
       "default      0\n",
       "balance      0\n",
       "housing      0\n",
       "loan         0\n",
       "contact      0\n",
       "day          0\n",
       "month        0\n",
       "duration     0\n",
       "campaign     0\n",
       "pdays        0\n",
       "previous     0\n",
       "poutcome     0\n",
       "y            0\n",
       "dtype: int64"
      ]
     },
     "execution_count": 11,
     "metadata": {},
     "output_type": "execute_result"
    }
   ],
   "source": [
    "train.isnull().sum()"
   ]
  },
  {
   "cell_type": "markdown",
   "id": "cc2edfef-5e85-47a7-af67-6e2996666c91",
   "metadata": {
    "id": "cc2edfef-5e85-47a7-af67-6e2996666c91"
   },
   "source": [
    "Dari hasil pengecekan di atas, tidak ada kolom yang memiliki nilai null/missing values"
   ]
  },
  {
   "cell_type": "code",
   "execution_count": null,
   "id": "6ac73c58-5ccd-4d38-b6ad-faf1f07bcefb",
   "metadata": {
    "id": "6ac73c58-5ccd-4d38-b6ad-faf1f07bcefb",
    "outputId": "ebe04205-5383-4739-c67c-d1cfa05ed648"
   },
   "outputs": [
    {
     "name": "stdout",
     "output_type": "stream",
     "text": [
      "Value count kolom job:\n",
      "blue-collar      9732\n",
      "management       9458\n",
      "technician       7597\n",
      "admin.           5171\n",
      "services         4154\n",
      "retired          2264\n",
      "self-employed    1579\n",
      "entrepreneur     1487\n",
      "unemployed       1303\n",
      "housemaid        1240\n",
      "student           938\n",
      "unknown           288\n",
      "Name: job, dtype: int64\n",
      "\n",
      "Value count kolom marital:\n",
      "married     27214\n",
      "single      12790\n",
      "divorced     5207\n",
      "Name: marital, dtype: int64\n",
      "\n",
      "Value count kolom education:\n",
      "secondary    23202\n",
      "tertiary     13301\n",
      "primary       6851\n",
      "unknown       1857\n",
      "Name: education, dtype: int64\n",
      "\n",
      "Value count kolom default:\n",
      "no     44396\n",
      "yes      815\n",
      "Name: default, dtype: int64\n",
      "\n",
      "Value count kolom housing:\n",
      "yes    25130\n",
      "no     20081\n",
      "Name: housing, dtype: int64\n",
      "\n",
      "Value count kolom loan:\n",
      "no     37967\n",
      "yes     7244\n",
      "Name: loan, dtype: int64\n",
      "\n",
      "Value count kolom contact:\n",
      "cellular     29285\n",
      "unknown      13020\n",
      "telephone     2906\n",
      "Name: contact, dtype: int64\n",
      "\n",
      "Value count kolom month:\n",
      "may    13766\n",
      "jul     6895\n",
      "aug     6247\n",
      "jun     5341\n",
      "nov     3970\n",
      "apr     2932\n",
      "feb     2649\n",
      "jan     1403\n",
      "oct      738\n",
      "sep      579\n",
      "mar      477\n",
      "dec      214\n",
      "Name: month, dtype: int64\n",
      "\n",
      "Value count kolom poutcome:\n",
      "unknown    36959\n",
      "failure     4901\n",
      "other       1840\n",
      "success     1511\n",
      "Name: poutcome, dtype: int64\n",
      "\n",
      "Value count kolom y:\n",
      "no     39922\n",
      "yes     5289\n",
      "Name: y, dtype: int64\n",
      "\n"
     ]
    }
   ],
   "source": [
    "for col in cats:\n",
    "    print(f'''Value count kolom {col}:''')\n",
    "    print(train[col].value_counts())\n",
    "    print()"
   ]
  },
  {
   "cell_type": "markdown",
   "id": "09709659-7f2e-4691-8383-c9ae02961684",
   "metadata": {
    "id": "09709659-7f2e-4691-8383-c9ae02961684"
   },
   "source": [
    "- Akan tetapi, dari hasil pengecekan pada kolom tipe string, meskipun tidak ada missing values, terdapat nilai **'unknown'** pada kolom `job`, `education`, `contact`, dan `poutcome`"
   ]
  },
  {
   "cell_type": "markdown",
   "id": "90f4eedd-e684-453e-a5d0-0988fc549346",
   "metadata": {
    "id": "90f4eedd-e684-453e-a5d0-0988fc549346"
   },
   "source": [
    "### C. Cek Nilai Summary pada Kolom"
   ]
  },
  {
   "cell_type": "code",
   "execution_count": null,
   "id": "dbffd6b9-0c20-4752-a12f-6828b5c21e55",
   "metadata": {
    "id": "dbffd6b9-0c20-4752-a12f-6828b5c21e55",
    "outputId": "b15c1a29-8302-491c-acf8-60b581b4624c"
   },
   "outputs": [
    {
     "data": {
      "text/html": [
       "<div>\n",
       "<style scoped>\n",
       "    .dataframe tbody tr th:only-of-type {\n",
       "        vertical-align: middle;\n",
       "    }\n",
       "\n",
       "    .dataframe tbody tr th {\n",
       "        vertical-align: top;\n",
       "    }\n",
       "\n",
       "    .dataframe thead th {\n",
       "        text-align: right;\n",
       "    }\n",
       "</style>\n",
       "<table border=\"1\" class=\"dataframe\">\n",
       "  <thead>\n",
       "    <tr style=\"text-align: right;\">\n",
       "      <th></th>\n",
       "      <th>age</th>\n",
       "      <th>balance</th>\n",
       "      <th>day</th>\n",
       "      <th>duration</th>\n",
       "      <th>campaign</th>\n",
       "      <th>pdays</th>\n",
       "      <th>previous</th>\n",
       "    </tr>\n",
       "  </thead>\n",
       "  <tbody>\n",
       "    <tr>\n",
       "      <th>count</th>\n",
       "      <td>45211.000000</td>\n",
       "      <td>45211.000000</td>\n",
       "      <td>45211.000000</td>\n",
       "      <td>45211.000000</td>\n",
       "      <td>45211.000000</td>\n",
       "      <td>45211.000000</td>\n",
       "      <td>45211.000000</td>\n",
       "    </tr>\n",
       "    <tr>\n",
       "      <th>mean</th>\n",
       "      <td>40.936210</td>\n",
       "      <td>1362.272058</td>\n",
       "      <td>15.806419</td>\n",
       "      <td>258.163080</td>\n",
       "      <td>2.763841</td>\n",
       "      <td>40.197828</td>\n",
       "      <td>0.580323</td>\n",
       "    </tr>\n",
       "    <tr>\n",
       "      <th>std</th>\n",
       "      <td>10.618762</td>\n",
       "      <td>3044.765829</td>\n",
       "      <td>8.322476</td>\n",
       "      <td>257.527812</td>\n",
       "      <td>3.098021</td>\n",
       "      <td>100.128746</td>\n",
       "      <td>2.303441</td>\n",
       "    </tr>\n",
       "    <tr>\n",
       "      <th>min</th>\n",
       "      <td>18.000000</td>\n",
       "      <td>-8019.000000</td>\n",
       "      <td>1.000000</td>\n",
       "      <td>0.000000</td>\n",
       "      <td>1.000000</td>\n",
       "      <td>-1.000000</td>\n",
       "      <td>0.000000</td>\n",
       "    </tr>\n",
       "    <tr>\n",
       "      <th>25%</th>\n",
       "      <td>33.000000</td>\n",
       "      <td>72.000000</td>\n",
       "      <td>8.000000</td>\n",
       "      <td>103.000000</td>\n",
       "      <td>1.000000</td>\n",
       "      <td>-1.000000</td>\n",
       "      <td>0.000000</td>\n",
       "    </tr>\n",
       "    <tr>\n",
       "      <th>50%</th>\n",
       "      <td>39.000000</td>\n",
       "      <td>448.000000</td>\n",
       "      <td>16.000000</td>\n",
       "      <td>180.000000</td>\n",
       "      <td>2.000000</td>\n",
       "      <td>-1.000000</td>\n",
       "      <td>0.000000</td>\n",
       "    </tr>\n",
       "    <tr>\n",
       "      <th>75%</th>\n",
       "      <td>48.000000</td>\n",
       "      <td>1428.000000</td>\n",
       "      <td>21.000000</td>\n",
       "      <td>319.000000</td>\n",
       "      <td>3.000000</td>\n",
       "      <td>-1.000000</td>\n",
       "      <td>0.000000</td>\n",
       "    </tr>\n",
       "    <tr>\n",
       "      <th>max</th>\n",
       "      <td>95.000000</td>\n",
       "      <td>102127.000000</td>\n",
       "      <td>31.000000</td>\n",
       "      <td>4918.000000</td>\n",
       "      <td>63.000000</td>\n",
       "      <td>871.000000</td>\n",
       "      <td>275.000000</td>\n",
       "    </tr>\n",
       "  </tbody>\n",
       "</table>\n",
       "</div>"
      ],
      "text/plain": [
       "                age        balance           day      duration      campaign  \\\n",
       "count  45211.000000   45211.000000  45211.000000  45211.000000  45211.000000   \n",
       "mean      40.936210    1362.272058     15.806419    258.163080      2.763841   \n",
       "std       10.618762    3044.765829      8.322476    257.527812      3.098021   \n",
       "min       18.000000   -8019.000000      1.000000      0.000000      1.000000   \n",
       "25%       33.000000      72.000000      8.000000    103.000000      1.000000   \n",
       "50%       39.000000     448.000000     16.000000    180.000000      2.000000   \n",
       "75%       48.000000    1428.000000     21.000000    319.000000      3.000000   \n",
       "max       95.000000  102127.000000     31.000000   4918.000000     63.000000   \n",
       "\n",
       "              pdays      previous  \n",
       "count  45211.000000  45211.000000  \n",
       "mean      40.197828      0.580323  \n",
       "std      100.128746      2.303441  \n",
       "min       -1.000000      0.000000  \n",
       "25%       -1.000000      0.000000  \n",
       "50%       -1.000000      0.000000  \n",
       "75%       -1.000000      0.000000  \n",
       "max      871.000000    275.000000  "
      ]
     },
     "execution_count": 13,
     "metadata": {},
     "output_type": "execute_result"
    }
   ],
   "source": [
    "nums.describe()"
   ]
  },
  {
   "cell_type": "markdown",
   "id": "2a72d767-ddca-4ec6-8317-c65ff6f416fd",
   "metadata": {
    "id": "2a72d767-ddca-4ec6-8317-c65ff6f416fd"
   },
   "source": [
    "Dari hasil inspeksi di atas, beberapa kesimpulan yang dapat diambil adalah:\n",
    "- Kolom `age` sepertinya berdistribusi normal karena memiliki nilai mean dan median yang berdekatan\n",
    "- Kolom `pdays` menunjukkan jumlah hari yang yang telah berlalu setelah user ini dihubungi pada campaign sebelumnya. Nilai -1 menunjukkan bahwa user tidak dihubungi pada campaign sebelumnya\n",
    "- Kolom `balance` menunjukkan jumlah saldo user dalam bank. Terdapat nilai negatif disini, apakah mungkin saldo bernilai negatif (utang?)\n",
    "- Pada kolom lain tidak terdapat keanehan"
   ]
  },
  {
   "cell_type": "code",
   "execution_count": null,
   "id": "74c6fe19-25db-44da-b7fb-2a8e063cd381",
   "metadata": {
    "id": "74c6fe19-25db-44da-b7fb-2a8e063cd381",
    "outputId": "cf7c3fce-effc-40e5-c622-a6ed1462bc66"
   },
   "outputs": [
    {
     "name": "stdout",
     "output_type": "stream",
     "text": [
      "Terdapat 3766 user dengan nilai balance negatif\n"
     ]
    }
   ],
   "source": [
    "print(f\"Terdapat {nums[nums['balance'] < 0].shape[0]} user dengan nilai balance negatif\")"
   ]
  },
  {
   "cell_type": "markdown",
   "id": "8a843cbe-3a4b-40b6-a1fb-9be16ed40bb5",
   "metadata": {
    "id": "8a843cbe-3a4b-40b6-a1fb-9be16ed40bb5"
   },
   "source": [
    "Dibawa ke mentoring dengan Mas Pras"
   ]
  },
  {
   "cell_type": "code",
   "execution_count": null,
   "id": "f891e77e-ce1d-4b3f-b49d-be63e45e2e82",
   "metadata": {
    "id": "f891e77e-ce1d-4b3f-b49d-be63e45e2e82",
    "outputId": "a18d4b2e-340c-4416-b9a2-cfe1d08f7e65"
   },
   "outputs": [
    {
     "data": {
      "text/html": [
       "<div>\n",
       "<style scoped>\n",
       "    .dataframe tbody tr th:only-of-type {\n",
       "        vertical-align: middle;\n",
       "    }\n",
       "\n",
       "    .dataframe tbody tr th {\n",
       "        vertical-align: top;\n",
       "    }\n",
       "\n",
       "    .dataframe thead th {\n",
       "        text-align: right;\n",
       "    }\n",
       "</style>\n",
       "<table border=\"1\" class=\"dataframe\">\n",
       "  <thead>\n",
       "    <tr style=\"text-align: right;\">\n",
       "      <th></th>\n",
       "      <th>job</th>\n",
       "      <th>marital</th>\n",
       "      <th>education</th>\n",
       "      <th>default</th>\n",
       "      <th>housing</th>\n",
       "      <th>loan</th>\n",
       "      <th>contact</th>\n",
       "      <th>month</th>\n",
       "      <th>poutcome</th>\n",
       "      <th>y</th>\n",
       "    </tr>\n",
       "  </thead>\n",
       "  <tbody>\n",
       "    <tr>\n",
       "      <th>count</th>\n",
       "      <td>45211</td>\n",
       "      <td>45211</td>\n",
       "      <td>45211</td>\n",
       "      <td>45211</td>\n",
       "      <td>45211</td>\n",
       "      <td>45211</td>\n",
       "      <td>45211</td>\n",
       "      <td>45211</td>\n",
       "      <td>45211</td>\n",
       "      <td>45211</td>\n",
       "    </tr>\n",
       "    <tr>\n",
       "      <th>unique</th>\n",
       "      <td>12</td>\n",
       "      <td>3</td>\n",
       "      <td>4</td>\n",
       "      <td>2</td>\n",
       "      <td>2</td>\n",
       "      <td>2</td>\n",
       "      <td>3</td>\n",
       "      <td>12</td>\n",
       "      <td>4</td>\n",
       "      <td>2</td>\n",
       "    </tr>\n",
       "    <tr>\n",
       "      <th>top</th>\n",
       "      <td>blue-collar</td>\n",
       "      <td>married</td>\n",
       "      <td>secondary</td>\n",
       "      <td>no</td>\n",
       "      <td>yes</td>\n",
       "      <td>no</td>\n",
       "      <td>cellular</td>\n",
       "      <td>may</td>\n",
       "      <td>unknown</td>\n",
       "      <td>no</td>\n",
       "    </tr>\n",
       "    <tr>\n",
       "      <th>freq</th>\n",
       "      <td>9732</td>\n",
       "      <td>27214</td>\n",
       "      <td>23202</td>\n",
       "      <td>44396</td>\n",
       "      <td>25130</td>\n",
       "      <td>37967</td>\n",
       "      <td>29285</td>\n",
       "      <td>13766</td>\n",
       "      <td>36959</td>\n",
       "      <td>39922</td>\n",
       "    </tr>\n",
       "  </tbody>\n",
       "</table>\n",
       "</div>"
      ],
      "text/plain": [
       "                job  marital  education default housing   loan   contact  \\\n",
       "count         45211    45211      45211   45211   45211  45211     45211   \n",
       "unique           12        3          4       2       2      2         3   \n",
       "top     blue-collar  married  secondary      no     yes     no  cellular   \n",
       "freq           9732    27214      23202   44396   25130  37967     29285   \n",
       "\n",
       "        month poutcome      y  \n",
       "count   45211    45211  45211  \n",
       "unique     12        4      2  \n",
       "top       may  unknown     no  \n",
       "freq    13766    36959  39922  "
      ]
     },
     "execution_count": 16,
     "metadata": {},
     "output_type": "execute_result"
    }
   ],
   "source": [
    "cats.describe()"
   ]
  },
  {
   "cell_type": "markdown",
   "id": "bd244408-3f8f-40fb-91d4-8266625c64bc",
   "metadata": {
    "id": "bd244408-3f8f-40fb-91d4-8266625c64bc"
   },
   "source": [
    "Beberapa insight yang bisa diambil:\n",
    "- 98% user tidak gagal bayar (`default`)\n",
    "- Lebih dari 80% user tidak melakukan subsribe ke term deposit (`y`)\n",
    "- Lebih dari 80% user tidak memiliki utang (`loan`)\n",
    "- Kolom `marital` didominasi (proporsi lebih dari 50%) oleh user dengan status married"
   ]
  },
  {
   "cell_type": "markdown",
   "id": "193ea4d0-7067-45e3-b908-a3ef04b8c236",
   "metadata": {
    "id": "193ea4d0-7067-45e3-b908-a3ef04b8c236"
   },
   "source": [
    "## Univariate Analysis"
   ]
  },
  {
   "cell_type": "code",
   "execution_count": 5,
   "id": "c9dd387a-3291-4d17-9896-279c63f010b5",
   "metadata": {
    "executionInfo": {
     "elapsed": 461,
     "status": "ok",
     "timestamp": 1646564800960,
     "user": {
      "displayName": "Muhammad Dhiyaaul Firdaus",
      "photoUrl": "https://lh3.googleusercontent.com/a-/AOh14Gi3oG_9bA_lBf8mb6zeyEcDubUqhIJoPaMJPsqQTg=s64",
      "userId": "08730575054720552885"
     },
     "user_tz": -420
    },
    "id": "c9dd387a-3291-4d17-9896-279c63f010b5"
   },
   "outputs": [],
   "source": [
    "from matplotlib import rcParams\n",
    "\n",
    "rcParams['figure.figsize'] = 12, 4\n",
    "rcParams['lines.linewidth'] = 3\n",
    "rcParams['xtick.labelsize'] = 'x-large'\n",
    "rcParams['ytick.labelsize'] = 'x-large'"
   ]
  },
  {
   "cell_type": "code",
   "execution_count": null,
   "id": "d5d298d3-1649-4cb1-bb52-f2b6beb9dd61",
   "metadata": {
    "id": "d5d298d3-1649-4cb1-bb52-f2b6beb9dd61",
    "outputId": "ebe2abd5-188f-4499-d45c-eefaaadeb5db"
   },
   "outputs": [
    {
     "data": {
      "text/plain": [
       "Index(['age', 'balance', 'day', 'duration', 'campaign', 'pdays', 'previous'], dtype='object')"
      ]
     },
     "execution_count": 20,
     "metadata": {},
     "output_type": "execute_result"
    }
   ],
   "source": [
    "nums.columns"
   ]
  },
  {
   "cell_type": "markdown",
   "id": "ed34136e-73ea-466a-b2f1-6725ac6ce810",
   "metadata": {
    "id": "ed34136e-73ea-466a-b2f1-6725ac6ce810"
   },
   "source": [
    "### Box Plot"
   ]
  },
  {
   "cell_type": "code",
   "execution_count": null,
   "id": "a81d3062-fbfa-4e37-b826-9e11aaf7c86c",
   "metadata": {
    "id": "a81d3062-fbfa-4e37-b826-9e11aaf7c86c",
    "outputId": "bf777374-3781-4fab-a0ac-8c96e6840463"
   },
   "outputs": [
    {
     "data": {
      "image/png": "[encoded data removed]",
      "text/plain": [
       "<Figure size 864x288 with 7 Axes>"
      ]
     },
     "metadata": {
      "needs_background": "light"
     },
     "output_type": "display_data"
    }
   ],
   "source": [
    "features = nums.columns\n",
    "for i in range(0, len(features)):\n",
    "    plt.subplot(1, len(features), i+1)\n",
    "    sns.boxplot(y=train[features[i]], orient='v')\n",
    "    plt.tight_layout()"
   ]
  },
  {
   "cell_type": "markdown",
   "id": "02f26ff3-8758-4aa3-9ca0-c7360813f508",
   "metadata": {
    "id": "02f26ff3-8758-4aa3-9ca0-c7360813f508"
   },
   "source": [
    "Beberapa insight yang bisa diambil:\n",
    "- Hampir seluruh kolom memiliki outliers\n",
    "- Tampak hampir semua feature berdistribusi *skewed*, kecuali `day`\n",
    "- Feature `day` tidak memiliki outliers karena menunjukkan tanggal pada bulan, sehingga nilainya dari 1 s/d 31"
   ]
  },
  {
   "cell_type": "markdown",
   "id": "ff706800-2bc7-4da7-b44a-9893c01f753b",
   "metadata": {
    "id": "ff706800-2bc7-4da7-b44a-9893c01f753b"
   },
   "source": [
    "### Dist Plot"
   ]
  },
  {
   "cell_type": "code",
   "execution_count": null,
   "id": "c3b5b923-03b5-4b4f-9ad7-ca88dc4e311d",
   "metadata": {
    "id": "c3b5b923-03b5-4b4f-9ad7-ca88dc4e311d",
    "outputId": "4700f871-33b1-458e-c75b-fe9f1e362c1d"
   },
   "outputs": [
    {
     "data": {
      "image/png": "[encoded data removed]",
      "text/plain": [
       "<Figure size 864x576 with 7 Axes>"
      ]
     },
     "metadata": {
      "needs_background": "light"
     },
     "output_type": "display_data"
    }
   ],
   "source": [
    "features = nums.columns\n",
    "plt.figure(figsize=(12, 8))\n",
    "for i in range(0, len(features)):\n",
    "    plt.subplot(3, 3, i+1)\n",
    "    sns.kdeplot(x=train[features[i]])\n",
    "    plt.xlabel(features[i])\n",
    "    plt.tight_layout();"
   ]
  },
  {
   "cell_type": "markdown",
   "id": "51cc6df3-e075-4590-a34e-0593ae44a743",
   "metadata": {
    "id": "51cc6df3-e075-4590-a34e-0593ae44a743"
   },
   "source": [
    "Beberapa insight yang bisa diambil:\n",
    "- Hampir seluruh feature berdistribusi positively skewed\n",
    "- Feature `day` tampak memiliki 3 puncak (trimodal distribution)\n",
    "\n",
    "Saran: \n",
    "- Melakukan log transformasi untuk feature yang sangat-sangat skewed"
   ]
  },
  {
   "cell_type": "markdown",
   "id": "e58509a9-e9b4-49f9-8f3b-375f097212ec",
   "metadata": {
    "id": "e58509a9-e9b4-49f9-8f3b-375f097212ec"
   },
   "source": [
    "### Count Plot (categorical)"
   ]
  },
  {
   "cell_type": "code",
   "execution_count": null,
   "id": "e89d748f-714d-4c01-9e44-c52d27cecaf0",
   "metadata": {
    "id": "e89d748f-714d-4c01-9e44-c52d27cecaf0",
    "outputId": "d7174d24-b949-44c0-efe3-5c1813985d1e"
   },
   "outputs": [
    {
     "data": {
      "text/plain": [
       "Index(['job', 'marital', 'education', 'default', 'housing', 'loan', 'contact',\n",
       "       'month', 'poutcome', 'y'],\n",
       "      dtype='object')"
      ]
     },
     "execution_count": 21,
     "metadata": {},
     "output_type": "execute_result"
    }
   ],
   "source": [
    "cats.columns"
   ]
  },
  {
   "cell_type": "code",
   "execution_count": null,
   "id": "1942e2c4-b878-4370-8c2e-0b53a1c2334e",
   "metadata": {
    "id": "1942e2c4-b878-4370-8c2e-0b53a1c2334e",
    "outputId": "de1ffb45-ed5f-459c-fec8-1b93a7958316"
   },
   "outputs": [
    {
     "data": {
      "text/plain": [
       "10"
      ]
     },
     "execution_count": 22,
     "metadata": {},
     "output_type": "execute_result"
    }
   ],
   "source": [
    "len(cats.columns)"
   ]
  },
  {
   "cell_type": "code",
   "execution_count": null,
   "id": "94360d0a-9c21-4888-9066-08200bc98cad",
   "metadata": {
    "id": "94360d0a-9c21-4888-9066-08200bc98cad",
    "outputId": "da467944-ca89-47a0-f6a8-25faf135eda6"
   },
   "outputs": [
    {
     "data": {
      "image/png": "[encoded data removed]",
      "text/plain": [
       "<Figure size 1440x864 with 10 Axes>"
      ]
     },
     "metadata": {
      "needs_background": "light"
     },
     "output_type": "display_data"
    }
   ],
   "source": [
    "features = cats.columns\n",
    "plt.figure(figsize=(20, 12))\n",
    "for i in range(0, len(features)):\n",
    "    plt.subplot(4, 3, i+1)\n",
    "    sns.countplot(x = train[features[i]], color='#3274A1', orient='v')\n",
    "    plt.tight_layout()"
   ]
  },
  {
   "cell_type": "markdown",
   "id": "fa9a3b76-e710-4993-9047-4aaf6dc0691a",
   "metadata": {
    "id": "fa9a3b76-e710-4993-9047-4aaf6dc0691a"
   },
   "source": [
    "Beberapa insight yang dapat diambil:\n",
    "- Mayoritas `poutcome` (hasil dari campaign sebelumnya) bernilai unknown\n",
    "- Mayoritas user dihubungi melalui contact celluar (`contact`)\n",
    "- Mayoritas user dihubungi pada bulan Mei\n",
    "- Distribusi user pada yang memiliki KPR dan tidak, cukup berdekatan (`housing`)\n",
    "- Mayoritas user tidak gagal bayar (`default`)\n",
    "- Mayoritas user tidak memiliki utang (`loan`)\n",
    "- Mayoritas user tidak subscribe pada term deposit (`y`)"
   ]
  },
  {
   "cell_type": "markdown",
   "id": "92828303-700b-4da8-a853-e311bb2263e5",
   "metadata": {
    "id": "92828303-700b-4da8-a853-e311bb2263e5"
   },
   "source": [
    "## Part Follow-up in The Next Stage from Univariate Analysis"
   ]
  },
  {
   "cell_type": "markdown",
   "id": "1c0c1ec1-a264-422f-877c-fe1a232b017d",
   "metadata": {
    "id": "1c0c1ec1-a264-422f-877c-fe1a232b017d"
   },
   "source": [
    "- Tidak ada data missing values sehingga tidak perlu dilakukan pre-processing 'drop'. Namun, dikarenakan ada data yang 'unknown' pada kolom job`, `education`, `contact`, dan `poutcome` sehingga perlu adanya pre-processing untuk data Categorical tersebut.\n",
    "- Banyak data outliers, sehingga perlu dilakukan penghapusan data oulier jika diperluka pada kolom yang memiliki correlation yang tinggi terhadap column targeted.\n",
    "- Pada kolom summary tidak ada keanehan untuk nilai mean dan median. Namun, yang jadi permasalahan ialah data pada kolom 'balance' Kolom `balance` menunjukkan jumlah saldo user dalam bank. Terdapat nilai negatif disini, apakah mungkin saldo bernilai negatif (utang?)\n",
    "-kolom target 'y' masih berbentuk categoricals diperlukan preprocessing untuk encoding menjadi numericals dengan menggunakan feature encoding. dikarenakan tidak semua model dapat menggunakan feature categorical, apalagi kita kesuliatan untuk melihat correlation dengan menggunakan column targeted yang berbentuk categoricals.\n",
    "- Banyak kolom yang mengalami class imbalance apalagi pada column targeted. Perlu adanya perlakuan di pre-processing untuk oversampling atau undersampling (?)"
   ]
  },
  {
   "cell_type": "markdown",
   "id": "6790ef1b-8124-45a1-8bf2-65674d206b27",
   "metadata": {
    "id": "6790ef1b-8124-45a1-8bf2-65674d206b27"
   },
   "source": [
    "## Bivariate Analysis"
   ]
  },
  {
   "cell_type": "code",
   "execution_count": 6,
   "id": "51d6c535-eb56-4470-90f9-814cc30159b7",
   "metadata": {
    "executionInfo": {
     "elapsed": 490,
     "status": "ok",
     "timestamp": 1646564806540,
     "user": {
      "displayName": "Muhammad Dhiyaaul Firdaus",
      "photoUrl": "https://lh3.googleusercontent.com/a-/AOh14Gi3oG_9bA_lBf8mb6zeyEcDubUqhIJoPaMJPsqQTg=s64",
      "userId": "08730575054720552885"
     },
     "user_tz": -420
    },
    "id": "51d6c535-eb56-4470-90f9-814cc30159b7"
   },
   "outputs": [],
   "source": [
    "y_map = {\n",
    "    'yes' : 1,\n",
    "    'no' : 0\n",
    "}\n",
    "\n",
    "train['y_map'] = train['y'].map(y_map)"
   ]
  },
  {
   "cell_type": "code",
   "execution_count": null,
   "id": "2779970e-a52c-4093-a8c8-7720ea2a9d20",
   "metadata": {
    "id": "2779970e-a52c-4093-a8c8-7720ea2a9d20",
    "outputId": "c0361054-314b-45e6-ad32-0839bace93ea"
   },
   "outputs": [
    {
     "data": {
      "text/html": [
       "<div>\n",
       "<style scoped>\n",
       "    .dataframe tbody tr th:only-of-type {\n",
       "        vertical-align: middle;\n",
       "    }\n",
       "\n",
       "    .dataframe tbody tr th {\n",
       "        vertical-align: top;\n",
       "    }\n",
       "\n",
       "    .dataframe thead th {\n",
       "        text-align: right;\n",
       "    }\n",
       "</style>\n",
       "<table border=\"1\" class=\"dataframe\">\n",
       "  <thead>\n",
       "    <tr style=\"text-align: right;\">\n",
       "      <th></th>\n",
       "      <th>age</th>\n",
       "      <th>job</th>\n",
       "      <th>marital</th>\n",
       "      <th>education</th>\n",
       "      <th>default</th>\n",
       "      <th>balance</th>\n",
       "      <th>housing</th>\n",
       "      <th>loan</th>\n",
       "      <th>contact</th>\n",
       "      <th>day</th>\n",
       "      <th>month</th>\n",
       "      <th>duration</th>\n",
       "      <th>campaign</th>\n",
       "      <th>pdays</th>\n",
       "      <th>previous</th>\n",
       "      <th>poutcome</th>\n",
       "      <th>y</th>\n",
       "      <th>y_map</th>\n",
       "    </tr>\n",
       "  </thead>\n",
       "  <tbody>\n",
       "    <tr>\n",
       "      <th>0</th>\n",
       "      <td>58</td>\n",
       "      <td>management</td>\n",
       "      <td>married</td>\n",
       "      <td>tertiary</td>\n",
       "      <td>no</td>\n",
       "      <td>2143</td>\n",
       "      <td>yes</td>\n",
       "      <td>no</td>\n",
       "      <td>unknown</td>\n",
       "      <td>5</td>\n",
       "      <td>may</td>\n",
       "      <td>261</td>\n",
       "      <td>1</td>\n",
       "      <td>-1</td>\n",
       "      <td>0</td>\n",
       "      <td>unknown</td>\n",
       "      <td>no</td>\n",
       "      <td>0</td>\n",
       "    </tr>\n",
       "    <tr>\n",
       "      <th>1</th>\n",
       "      <td>44</td>\n",
       "      <td>technician</td>\n",
       "      <td>single</td>\n",
       "      <td>secondary</td>\n",
       "      <td>no</td>\n",
       "      <td>29</td>\n",
       "      <td>yes</td>\n",
       "      <td>no</td>\n",
       "      <td>unknown</td>\n",
       "      <td>5</td>\n",
       "      <td>may</td>\n",
       "      <td>151</td>\n",
       "      <td>1</td>\n",
       "      <td>-1</td>\n",
       "      <td>0</td>\n",
       "      <td>unknown</td>\n",
       "      <td>no</td>\n",
       "      <td>0</td>\n",
       "    </tr>\n",
       "    <tr>\n",
       "      <th>2</th>\n",
       "      <td>33</td>\n",
       "      <td>entrepreneur</td>\n",
       "      <td>married</td>\n",
       "      <td>secondary</td>\n",
       "      <td>no</td>\n",
       "      <td>2</td>\n",
       "      <td>yes</td>\n",
       "      <td>yes</td>\n",
       "      <td>unknown</td>\n",
       "      <td>5</td>\n",
       "      <td>may</td>\n",
       "      <td>76</td>\n",
       "      <td>1</td>\n",
       "      <td>-1</td>\n",
       "      <td>0</td>\n",
       "      <td>unknown</td>\n",
       "      <td>no</td>\n",
       "      <td>0</td>\n",
       "    </tr>\n",
       "    <tr>\n",
       "      <th>3</th>\n",
       "      <td>47</td>\n",
       "      <td>blue-collar</td>\n",
       "      <td>married</td>\n",
       "      <td>unknown</td>\n",
       "      <td>no</td>\n",
       "      <td>1506</td>\n",
       "      <td>yes</td>\n",
       "      <td>no</td>\n",
       "      <td>unknown</td>\n",
       "      <td>5</td>\n",
       "      <td>may</td>\n",
       "      <td>92</td>\n",
       "      <td>1</td>\n",
       "      <td>-1</td>\n",
       "      <td>0</td>\n",
       "      <td>unknown</td>\n",
       "      <td>no</td>\n",
       "      <td>0</td>\n",
       "    </tr>\n",
       "    <tr>\n",
       "      <th>4</th>\n",
       "      <td>33</td>\n",
       "      <td>unknown</td>\n",
       "      <td>single</td>\n",
       "      <td>unknown</td>\n",
       "      <td>no</td>\n",
       "      <td>1</td>\n",
       "      <td>no</td>\n",
       "      <td>no</td>\n",
       "      <td>unknown</td>\n",
       "      <td>5</td>\n",
       "      <td>may</td>\n",
       "      <td>198</td>\n",
       "      <td>1</td>\n",
       "      <td>-1</td>\n",
       "      <td>0</td>\n",
       "      <td>unknown</td>\n",
       "      <td>no</td>\n",
       "      <td>0</td>\n",
       "    </tr>\n",
       "  </tbody>\n",
       "</table>\n",
       "</div>"
      ],
      "text/plain": [
       "   age           job  marital  education default  balance housing loan  \\\n",
       "0   58    management  married   tertiary      no     2143     yes   no   \n",
       "1   44    technician   single  secondary      no       29     yes   no   \n",
       "2   33  entrepreneur  married  secondary      no        2     yes  yes   \n",
       "3   47   blue-collar  married    unknown      no     1506     yes   no   \n",
       "4   33       unknown   single    unknown      no        1      no   no   \n",
       "\n",
       "   contact  day month  duration  campaign  pdays  previous poutcome   y  y_map  \n",
       "0  unknown    5   may       261         1     -1         0  unknown  no      0  \n",
       "1  unknown    5   may       151         1     -1         0  unknown  no      0  \n",
       "2  unknown    5   may        76         1     -1         0  unknown  no      0  \n",
       "3  unknown    5   may        92         1     -1         0  unknown  no      0  \n",
       "4  unknown    5   may       198         1     -1         0  unknown  no      0  "
      ]
     },
     "execution_count": 31,
     "metadata": {},
     "output_type": "execute_result"
    }
   ],
   "source": [
    "train.head()"
   ]
  },
  {
   "cell_type": "code",
   "execution_count": null,
   "id": "516380df-3677-4ba2-9f0c-778374172da4",
   "metadata": {
    "id": "516380df-3677-4ba2-9f0c-778374172da4",
    "outputId": "295e731b-cf30-4484-ef23-5d8a9744438c"
   },
   "outputs": [
    {
     "data": {
      "text/html": [
       "<div>\n",
       "<style scoped>\n",
       "    .dataframe tbody tr th:only-of-type {\n",
       "        vertical-align: middle;\n",
       "    }\n",
       "\n",
       "    .dataframe tbody tr th {\n",
       "        vertical-align: top;\n",
       "    }\n",
       "\n",
       "    .dataframe thead th {\n",
       "        text-align: right;\n",
       "    }\n",
       "</style>\n",
       "<table border=\"1\" class=\"dataframe\">\n",
       "  <thead>\n",
       "    <tr style=\"text-align: right;\">\n",
       "      <th></th>\n",
       "      <th>age</th>\n",
       "      <th>balance</th>\n",
       "      <th>day</th>\n",
       "      <th>duration</th>\n",
       "      <th>campaign</th>\n",
       "      <th>pdays</th>\n",
       "      <th>previous</th>\n",
       "      <th>y_map</th>\n",
       "    </tr>\n",
       "  </thead>\n",
       "  <tbody>\n",
       "    <tr>\n",
       "      <th>age</th>\n",
       "      <td>1.000000</td>\n",
       "      <td>0.097783</td>\n",
       "      <td>-0.009120</td>\n",
       "      <td>-0.004648</td>\n",
       "      <td>0.004760</td>\n",
       "      <td>-0.023758</td>\n",
       "      <td>0.001288</td>\n",
       "      <td>0.025155</td>\n",
       "    </tr>\n",
       "    <tr>\n",
       "      <th>balance</th>\n",
       "      <td>0.097783</td>\n",
       "      <td>1.000000</td>\n",
       "      <td>0.004503</td>\n",
       "      <td>0.021560</td>\n",
       "      <td>-0.014578</td>\n",
       "      <td>0.003435</td>\n",
       "      <td>0.016674</td>\n",
       "      <td>0.052838</td>\n",
       "    </tr>\n",
       "    <tr>\n",
       "      <th>day</th>\n",
       "      <td>-0.009120</td>\n",
       "      <td>0.004503</td>\n",
       "      <td>1.000000</td>\n",
       "      <td>-0.030206</td>\n",
       "      <td>0.162490</td>\n",
       "      <td>-0.093044</td>\n",
       "      <td>-0.051710</td>\n",
       "      <td>-0.028348</td>\n",
       "    </tr>\n",
       "    <tr>\n",
       "      <th>duration</th>\n",
       "      <td>-0.004648</td>\n",
       "      <td>0.021560</td>\n",
       "      <td>-0.030206</td>\n",
       "      <td>1.000000</td>\n",
       "      <td>-0.084570</td>\n",
       "      <td>-0.001565</td>\n",
       "      <td>0.001203</td>\n",
       "      <td>0.394521</td>\n",
       "    </tr>\n",
       "    <tr>\n",
       "      <th>campaign</th>\n",
       "      <td>0.004760</td>\n",
       "      <td>-0.014578</td>\n",
       "      <td>0.162490</td>\n",
       "      <td>-0.084570</td>\n",
       "      <td>1.000000</td>\n",
       "      <td>-0.088628</td>\n",
       "      <td>-0.032855</td>\n",
       "      <td>-0.073172</td>\n",
       "    </tr>\n",
       "    <tr>\n",
       "      <th>pdays</th>\n",
       "      <td>-0.023758</td>\n",
       "      <td>0.003435</td>\n",
       "      <td>-0.093044</td>\n",
       "      <td>-0.001565</td>\n",
       "      <td>-0.088628</td>\n",
       "      <td>1.000000</td>\n",
       "      <td>0.454820</td>\n",
       "      <td>0.103621</td>\n",
       "    </tr>\n",
       "    <tr>\n",
       "      <th>previous</th>\n",
       "      <td>0.001288</td>\n",
       "      <td>0.016674</td>\n",
       "      <td>-0.051710</td>\n",
       "      <td>0.001203</td>\n",
       "      <td>-0.032855</td>\n",
       "      <td>0.454820</td>\n",
       "      <td>1.000000</td>\n",
       "      <td>0.093236</td>\n",
       "    </tr>\n",
       "    <tr>\n",
       "      <th>y_map</th>\n",
       "      <td>0.025155</td>\n",
       "      <td>0.052838</td>\n",
       "      <td>-0.028348</td>\n",
       "      <td>0.394521</td>\n",
       "      <td>-0.073172</td>\n",
       "      <td>0.103621</td>\n",
       "      <td>0.093236</td>\n",
       "      <td>1.000000</td>\n",
       "    </tr>\n",
       "  </tbody>\n",
       "</table>\n",
       "</div>"
      ],
      "text/plain": [
       "               age   balance       day  duration  campaign     pdays  \\\n",
       "age       1.000000  0.097783 -0.009120 -0.004648  0.004760 -0.023758   \n",
       "balance   0.097783  1.000000  0.004503  0.021560 -0.014578  0.003435   \n",
       "day      -0.009120  0.004503  1.000000 -0.030206  0.162490 -0.093044   \n",
       "duration -0.004648  0.021560 -0.030206  1.000000 -0.084570 -0.001565   \n",
       "campaign  0.004760 -0.014578  0.162490 -0.084570  1.000000 -0.088628   \n",
       "pdays    -0.023758  0.003435 -0.093044 -0.001565 -0.088628  1.000000   \n",
       "previous  0.001288  0.016674 -0.051710  0.001203 -0.032855  0.454820   \n",
       "y_map     0.025155  0.052838 -0.028348  0.394521 -0.073172  0.103621   \n",
       "\n",
       "          previous     y_map  \n",
       "age       0.001288  0.025155  \n",
       "balance   0.016674  0.052838  \n",
       "day      -0.051710 -0.028348  \n",
       "duration  0.001203  0.394521  \n",
       "campaign -0.032855 -0.073172  \n",
       "pdays     0.454820  0.103621  \n",
       "previous  1.000000  0.093236  \n",
       "y_map     0.093236  1.000000  "
      ]
     },
     "execution_count": 29,
     "metadata": {},
     "output_type": "execute_result"
    }
   ],
   "source": [
    "train.corr()"
   ]
  },
  {
   "cell_type": "code",
   "execution_count": null,
   "id": "0f373fcd-8e9e-425d-ae07-780cdfa6f9a6",
   "metadata": {
    "id": "0f373fcd-8e9e-425d-ae07-780cdfa6f9a6",
    "outputId": "1c64d659-e4d7-48e9-f5cb-0b23ba818130"
   },
   "outputs": [
    {
     "data": {
      "image/png": "[encoded data removed]",
      "text/plain": [
       "<Figure size 576x576 with 2 Axes>"
      ]
     },
     "metadata": {
      "needs_background": "light"
     },
     "output_type": "display_data"
    }
   ],
   "source": [
    "plt.figure(figsize=(8, 8))\n",
    "sns.heatmap(train.corr(), cmap='Blues', annot=True, fmt='.2f');"
   ]
  },
  {
   "cell_type": "markdown",
   "id": "14d2862d-d50d-43c3-9264-a3f29c61301d",
   "metadata": {
    "id": "14d2862d-d50d-43c3-9264-a3f29c61301d"
   },
   "source": [
    "Beberapa insight yang dapat diambil:\n",
    "- pdays memiliki korelasi positif lemah dengan previous\n",
    "- duration memiliki nilai korelasi yang lumayan kuat terhadap y"
   ]
  },
  {
   "cell_type": "code",
   "execution_count": null,
   "id": "7b333102-8dc6-4819-9686-decddff82f8c",
   "metadata": {
    "id": "7b333102-8dc6-4819-9686-decddff82f8c",
    "outputId": "184545e4-2a2b-46de-c5ae-80f27c9d81d8"
   },
   "outputs": [
    {
     "data": {
      "image/png": "[encoded data removed]",
      "text/plain": [
       "<Figure size 864x576 with 7 Axes>"
      ]
     },
     "metadata": {
      "needs_background": "light"
     },
     "output_type": "display_data"
    }
   ],
   "source": [
    "features = nums.columns\n",
    "plt.figure(figsize=(12, 8))\n",
    "for i in range(0, len(features)):\n",
    "    plt.subplot(3, 3, i+1)\n",
    "    sns.kdeplot(x=train[features[i]], hue=train['y'])\n",
    "    plt.xlabel(features[i])\n",
    "    plt.tight_layout();"
   ]
  },
  {
   "cell_type": "code",
   "execution_count": null,
   "id": "7c97d8ca-d525-4a58-a56b-5a7261a374fe",
   "metadata": {
    "id": "7c97d8ca-d525-4a58-a56b-5a7261a374fe",
    "outputId": "a8609414-a7c4-47a1-8a57-2f56142d1928"
   },
   "outputs": [
    {
     "data": {
      "image/png": "[encoded data removed]",
      "text/plain": [
       "<Figure size 1440x864 with 10 Axes>"
      ]
     },
     "metadata": {
      "needs_background": "light"
     },
     "output_type": "display_data"
    }
   ],
   "source": [
    "features = cats.columns\n",
    "plt.figure(figsize=(20, 12))\n",
    "for i in range(0, len(features)):\n",
    "    plt.subplot(4, 3, i+1)\n",
    "    sns.countplot(x = train[features[i]], orient='v', hue=train['y'])\n",
    "    plt.tight_layout()"
   ]
  },
  {
   "cell_type": "markdown",
   "id": "eea2daa5-051d-4775-8c91-e9b2e4c15e1f",
   "metadata": {
    "id": "eea2daa5-051d-4775-8c91-e9b2e4c15e1f"
   },
   "source": [
    "Beberapa insight yang dapat diambil:\n",
    "- Tampaknya user yang tidak gagal bayar (no pada `default`) lebih cenderung untuk subscribe ke term deposit\n",
    "- Tampaknya user yang tidak punya utang (no pada `loan`) lebih cenderung untuk subscribe ke term deposit"
   ]
  },
  {
   "cell_type": "markdown",
   "id": "a3d120e7-59be-4000-a1b9-553897a2937a",
   "metadata": {
    "id": "a3d120e7-59be-4000-a1b9-553897a2937a"
   },
   "source": [
    "## Business Insight"
   ]
  },
  {
   "cell_type": "code",
   "execution_count": null,
   "id": "70033faf-e206-4b16-ac21-cdffd8e87465",
   "metadata": {
    "id": "70033faf-e206-4b16-ac21-cdffd8e87465",
    "outputId": "1782c38a-c385-47d6-d6f3-12cb9a07204b"
   },
   "outputs": [
    {
     "name": "stderr",
     "output_type": "stream",
     "text": [
      "C:\\Users\\dias_mdf\\anaconda3\\lib\\site-packages\\seaborn\\_decorators.py:36: FutureWarning: Pass the following variable as a keyword arg: x. From version 0.12, the only valid positional argument will be `data`, and passing other arguments without an explicit keyword will result in an error or misinterpretation.\n",
      "  warnings.warn(\n"
     ]
    },
    {
     "data": {
      "image/png": "[encoded data removed]",
      "text/plain": [
       "<Figure size 1440x360 with 1 Axes>"
      ]
     },
     "metadata": {
      "needs_background": "light"
     },
     "output_type": "display_data"
    }
   ],
   "source": [
    "plt.figure(figsize=(20,5))\n",
    "sns.countplot('campaign', data=train, hue='y')\n",
    "plt.legend(loc='center right');"
   ]
  },
  {
   "cell_type": "markdown",
   "id": "1b7d39b3-5cb1-4e51-847d-b0313727e918",
   "metadata": {
    "id": "1b7d39b3-5cb1-4e51-847d-b0313727e918"
   },
   "source": [
    "Jumlah campaign 1-3 tampaknya adalah jumlah yang optimum agar user subscribe ke term deposit. Tim marketing harus menemukan metode campaign  yang optimal agar cukup 1 sampai 3 kali user dihubungi, user akan mau untuk subscribe ke deposit."
   ]
  },
  {
   "cell_type": "markdown",
   "id": "24197c35-3496-4644-b3a7-20d02df7c3bd",
   "metadata": {
    "id": "24197c35-3496-4644-b3a7-20d02df7c3bd"
   },
   "source": [
    "Default mayoritas no, subscribed mayoritas no"
   ]
  },
  {
   "cell_type": "markdown",
   "id": "JFAt9Do_6ai8",
   "metadata": {
    "id": "JFAt9Do_6ai8"
   },
   "source": [
    "## Fitur Duration\n",
    "Duration memiliki korelasi yang cukup tinggi dengan y (subscribe)"
   ]
  },
  {
   "cell_type": "code",
   "execution_count": 7,
   "id": "QpdIN2vh6YWh",
   "metadata": {
    "colab": {
     "base_uri": "https://localhost:8080/",
     "height": 463
    },
    "executionInfo": {
     "elapsed": 14,
     "status": "ok",
     "timestamp": 1646564904820,
     "user": {
      "displayName": "Muhammad Dhiyaaul Firdaus",
      "photoUrl": "https://lh3.googleusercontent.com/a-/AOh14Gi3oG_9bA_lBf8mb6zeyEcDubUqhIJoPaMJPsqQTg=s64",
      "userId": "08730575054720552885"
     },
     "user_tz": -420
    },
    "id": "QpdIN2vh6YWh",
    "outputId": "c5ec984f-ed8b-4839-8137-afa2dbc0714d"
   },
   "outputs": [
    {
     "data": {
      "text/plain": [
       "<matplotlib.axes._subplots.AxesSubplot at 0x7f7adc6ad750>"
      ]
     },
     "execution_count": 7,
     "metadata": {},
     "output_type": "execute_result"
    },
    {
     "data": {
      "image/png": "[encoded data removed]",
      "text/plain": [
       "<Figure size 864x504 with 1 Axes>"
      ]
     },
     "metadata": {
      "needs_background": "light"
     },
     "output_type": "display_data"
    }
   ],
   "source": [
    "#Duration vs contact\n",
    "\n",
    "plt.figure(figsize=(12,7))\n",
    "sns.boxplot(x='contact', y='duration', hue='y', data=train)"
   ]
  },
  {
   "cell_type": "markdown",
   "id": "-o7zZT1M6udY",
   "metadata": {
    "id": "-o7zZT1M6udY"
   },
   "source": [
    "Dari Boxplot Contact and Duration, customer yang durasi teleponnya singkat cenderung menolak tawaran deposito. Artinya kita dapat menduga jika menit-menit awal (1-3 menit awal) adalah waktu yang sangat menentukan/krusial untuk menawarkan deposito. Harus dicek apa saja yg sudah disampaikan oleh tim sales/customer success pada 1-3 menit awal. Ketika tidak mendapatkan atensi pada 2 menit awal, maka customer akan menolak (churn). Ketika kita bisa menyampaikan informasi dengan baik di 1-3 menit pertama, maka ada potensi berhasil (masuk kategori 5-6 menit)\n",
    "\n",
    "Business rekomendasi:\n",
    "1. Menstandarisasi teks yang akan kita sampaikan ke customer\n",
    "2. Karena produk kita sebenarnya bagus dan artinya mereka yg sudah memakai produk kita retention ratenya tinggi. Maka bisa jadi business rekomendasi kedua, yaitu testimoni produk dari pengguna sebelumnya 2-3 menit awal penyampaian benefit dan testimoni"
   ]
  },
  {
   "cell_type": "code",
   "execution_count": 6,
   "id": "kPltrdm66WkV",
   "metadata": {
    "executionInfo": {
     "elapsed": 633,
     "status": "ok",
     "timestamp": 1646564840466,
     "user": {
      "displayName": "Muhammad Dhiyaaul Firdaus",
      "photoUrl": "https://lh3.googleusercontent.com/a-/AOh14Gi3oG_9bA_lBf8mb6zeyEcDubUqhIJoPaMJPsqQTg=s64",
      "userId": "08730575054720552885"
     },
     "user_tz": -420
    },
    "id": "kPltrdm66WkV"
   },
   "outputs": [],
   "source": []
  },
  {
   "cell_type": "code",
   "execution_count": null,
   "id": "jrq3jNiM6VPs",
   "metadata": {
    "id": "jrq3jNiM6VPs"
   },
   "outputs": [],
   "source": []
  },
  {
   "cell_type": "code",
   "execution_count": null,
   "id": "7257bc6d-2a8f-4133-82b1-869eff163b13",
   "metadata": {
    "id": "7257bc6d-2a8f-4133-82b1-869eff163b13",
    "outputId": "9beb5b8a-9df5-4fdd-d809-957464548c81"
   },
   "outputs": [
    {
     "data": {
      "text/plain": [
       "<AxesSubplot:xlabel='age', ylabel='Count'>"
      ]
     },
     "execution_count": 35,
     "metadata": {},
     "output_type": "execute_result"
    },
    {
     "data": {
      "image/png": "[encoded data removed]",
      "text/plain": [
       "<Figure size 864x288 with 1 Axes>"
      ]
     },
     "metadata": {
      "needs_background": "light"
     },
     "output_type": "display_data"
    }
   ],
   "source": [
    "sns.histplot(x=train['age'], hue=train['y'])"
   ]
  },
  {
   "cell_type": "code",
   "execution_count": null,
   "id": "25fcd917-d711-4c92-8c42-eb5ee0858da8",
   "metadata": {
    "id": "25fcd917-d711-4c92-8c42-eb5ee0858da8",
    "outputId": "2ac899e2-f6be-4681-df7a-fbae071da2f2"
   },
   "outputs": [
    {
     "data": {
      "image/png": "[encoded data removed]",
      "text/plain": [
       "<Figure size 864x288 with 1 Axes>"
      ]
     },
     "metadata": {
      "needs_background": "light"
     },
     "output_type": "display_data"
    }
   ],
   "source": [
    "sns.histplot(x=train['age'], hue=train['y'], bins=range(0,100,10))\n",
    "plt.xticks(range(0,100,5));"
   ]
  },
  {
   "cell_type": "code",
   "execution_count": null,
   "id": "55b03fe9-20d7-4fca-b71b-6d0ef7ddf4e5",
   "metadata": {
    "id": "55b03fe9-20d7-4fca-b71b-6d0ef7ddf4e5",
    "outputId": "153e4c34-0350-4b13-b078-d03fd534abd1"
   },
   "outputs": [
    {
     "data": {
      "text/plain": [
       "<AxesSubplot:xlabel='job', ylabel='balance'>"
      ]
     },
     "execution_count": 56,
     "metadata": {},
     "output_type": "execute_result"
    },
    {
     "data": {
      "image/png": "[encoded data removed]",
      "text/plain": [
       "<Figure size 864x288 with 1 Axes>"
      ]
     },
     "metadata": {
      "needs_background": "light"
     },
     "output_type": "display_data"
    }
   ],
   "source": [
    "sns.boxplot(x=train['job'], y=train['balance'], hue=train['y'])"
   ]
  },
  {
   "cell_type": "code",
   "execution_count": null,
   "id": "f56f1ff9-2295-48aa-aab1-5a518b510586",
   "metadata": {
    "id": "f56f1ff9-2295-48aa-aab1-5a518b510586",
    "outputId": "162d6269-202d-49c4-bb3c-9006a6101250"
   },
   "outputs": [
    {
     "data": {
      "image/png": "[encoded data removed]",
      "text/plain": [
       "<Figure size 864x288 with 1 Axes>"
      ]
     },
     "metadata": {
      "needs_background": "light"
     },
     "output_type": "display_data"
    }
   ],
   "source": [
    "sns.histplot(x=train['age'], hue=train['y'], bins=range(0,100,10))\n",
    "plt.xticks(range(0,100,5));"
   ]
  },
  {
   "cell_type": "code",
   "execution_count": null,
   "id": "6957186f-d5be-4195-a82a-2e00bb8005b4",
   "metadata": {
    "id": "6957186f-d5be-4195-a82a-2e00bb8005b4",
    "outputId": "323ddf8c-4112-42a5-ac89-a9dc41858313"
   },
   "outputs": [
    {
     "data": {
      "image/png": "[encoded data removed]",
      "text/plain": [
       "<Figure size 864x288 with 1 Axes>"
      ]
     },
     "metadata": {
      "needs_background": "light"
     },
     "output_type": "display_data"
    }
   ],
   "source": [
    "sns.histplot(x=train['age'], hue=train['y'], bins=range(0,100,5))\n",
    "plt.xticks(range(0,100,5));"
   ]
  },
  {
   "cell_type": "code",
   "execution_count": null,
   "id": "c32cb6f8-f057-4e4c-9f94-df630cd43355",
   "metadata": {
    "id": "c32cb6f8-f057-4e4c-9f94-df630cd43355",
    "outputId": "0fc51c7d-f9b7-40da-8dde-18faf0ef28fb"
   },
   "outputs": [
    {
     "data": {
      "text/plain": [
       "<AxesSubplot:xlabel='age'>"
      ]
     },
     "execution_count": 59,
     "metadata": {},
     "output_type": "execute_result"
    },
    {
     "data": {
      "text/plain": [
       "<Figure size 2880x1440 with 0 Axes>"
      ]
     },
     "metadata": {},
     "output_type": "display_data"
    },
    {
     "data": {
      "image/png": "[encoded data removed]",
      "text/plain": [
       "<Figure size 432x288 with 1 Axes>"
      ]
     },
     "metadata": {
      "needs_background": "light"
     },
     "output_type": "display_data"
    }
   ],
   "source": [
    "%matplotlib inline\n",
    "plt.figure(figsize=(40,20))\n",
    "train.groupby('age')['y'].value_counts(normalize=True).unstack('y').plot.bar(stacked=True)"
   ]
  },
  {
   "cell_type": "code",
   "execution_count": null,
   "id": "9047e5c1-9d50-436c-9658-06d2b0450e00",
   "metadata": {
    "id": "9047e5c1-9d50-436c-9658-06d2b0450e00"
   },
   "outputs": [],
   "source": []
  }
 ],
 "metadata": {
  "colab": {
   "collapsed_sections": [
    "144d6401-0d93-4849-8b8d-3f78a6a5287c",
    "90f4eedd-e684-453e-a5d0-0988fc549346",
    "ed34136e-73ea-466a-b2f1-6725ac6ce810",
    "ff706800-2bc7-4da7-b44a-9893c01f753b"
   ],
   "name": "HW EDA Stage 1_HTD.ipynb",
   "provenance": []
  },
  "kernelspec": {
   "display_name": "Python 3 (ipykernel)",
   "language": "python",
   "name": "python3"
  },
  "language_info": {
   "codemirror_mode": {
    "name": "ipython",
    "version": 3
   },
   "file_extension": ".py",
   "mimetype": "text/x-python",
   "name": "python",
   "nbconvert_exporter": "python",
   "pygments_lexer": "ipython3",
   "version": "3.9.7"
  },
  "toc-autonumbering": false
 },
 "nbformat": 4,
 "nbformat_minor": 5
}
